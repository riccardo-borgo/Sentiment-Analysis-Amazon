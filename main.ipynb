{
 "cells": [
  {
   "attachments": {},
   "cell_type": "markdown",
   "metadata": {},
   "source": [
    "### Importing Libraries"
   ]
  },
  {
   "cell_type": "code",
   "execution_count": 24,
   "metadata": {},
   "outputs": [],
   "source": [
    "import pandas as pd\n",
    "import numpy as np\n",
    "from bs4 import BeautifulSoup\n",
    "import requests\n",
    "import nltk\n",
    "import time"
   ]
  },
  {
   "cell_type": "code",
   "execution_count": 35,
   "metadata": {},
   "outputs": [],
   "source": [
    "i = 2\n",
    "list_reviews = []\n",
    "URL = \"https://www.amazon.it/Astroworld-2-LP-Travis-Scott/product-reviews/B07FZ99HXL/ref=cm_cr_dp_d_show_all_btm?ie=UTF8&reviewerType=all_reviews\"\n",
    "\n",
    "while i < 4:\n",
    "    headers = {\n",
    "        'User-Agent': 'Mozilla/5.0 (Windows NT 10.0;Win64) AppleWebkit/537.36 (KHTML, like Gecko) Chrome/89.0.4389.82 Safari/537.36',\n",
    "        'Accept-Language': 'en-US,en;q=0.9',\n",
    "    }\n",
    "    webpage = requests.get(URL, headers=headers)\n",
    "    soup = BeautifulSoup(webpage.content, 'html.parser')\n",
    "    list_reviews.append(soup.find_all(\"span\", {'data-hook': 'review-body'}))\n",
    "\n",
    "    URL = f\"https://www.amazon.it/Astroworld-2-LP-Travis-Scott/product-reviews/B07FZ99HXL/ref=cm_cr_getr_d_paging_btm_next_{str(i)}?ie=UTF8&reviewerType=all_reviews&pageNumber={str(i)}\"\n",
    "\n",
    "    i += 1\n",
    "    time.sleep(30)\n"
   ]
  },
  {
   "cell_type": "code",
   "execution_count": 36,
   "metadata": {},
   "outputs": [
    {
     "data": {
      "text/plain": [
       "[[<span class=\"a-size-base review-text review-text-content\" data-hook=\"review-body\">\n",
       "  <span>Ottimo disco, per chi ama il genere hip hop, da avere.arrivato nei tempi prestabiliti.</span>\n",
       "  </span>,\n",
       "  <span class=\"a-size-base review-text review-text-content\" data-hook=\"review-body\">\n",
       "  <span>Bel cd lo consiglio</span>\n",
       "  </span>,\n",
       "  <span class=\"a-size-base review-text review-text-content\" data-hook=\"review-body\">\n",
       "  <span>Preso come regalo per un collezionista di vinili. Confezione integra, buon prezzo, migliore di altri trovati in rete.</span>\n",
       "  </span>,\n",
       "  <span class=\"a-size-base review-text review-text-content\" data-hook=\"review-body\">\n",
       "  <span>Quello ke voleva Mio figlio</span>\n",
       "  </span>,\n",
       "  <span class=\"a-size-base review-text review-text-content\" data-hook=\"review-body\">\n",
       "  <span>tenuto bene, buona consegna anche in anticipo</span>\n",
       "  </span>,\n",
       "  <span class=\"a-size-base review-text review-text-content\" data-hook=\"review-body\">\n",
       "  <span>Servizio Amazon efficiente come sempre ma il vinile è di pessima qualità. Ne ho provati ben 3 e tutti saltano (provati su diversi giradischi). Imballaggio e consegna perfetti. Purtroppo rinuncio all'ennesima sostituzione e chiedo il rimborso.</span>\n",
       "  </span>,\n",
       "  <span class=\"a-size-base review-text review-text-content\" data-hook=\"review-body\">\n",
       "  <span>Audio di ottima qualità, spedizione sempre perfetta come da standard Amazon</span>\n",
       "  </span>,\n",
       "  <span class=\"a-size-base review-text review-text-content\" data-hook=\"review-body\">\n",
       "  <span>Trovare un negozio di dischi come ai miei tempi ormai è impossibile.<br/>Mia figlia voleva un disco fisico da suonare con il piatto, ed è astata accontentata grazie ad Amazon.<br/>Visto l'articolo ero titubante ad acquistarlo online ma l'imballo perfetto ha svolto bene il suo compito.<br/>Grazie</span>\n",
       "  </span>,\n",
       "  <span class=\"a-size-base review-text review-text-content\" data-hook=\"review-body\">\n",
       "  <span>Un album da avere se si é appassionati del genere</span>\n",
       "  </span>,\n",
       "  <span class=\"a-size-base review-text review-text-content\" data-hook=\"review-body\">\n",
       "  <span>ho comprato la versione in vinile e sfortunatamente mi è arrivata la versione non originale senza timbro parental advisors e senza bollino SIAE ma del resto tutto bene</span>\n",
       "  </span>],\n",
       " []]"
      ]
     },
     "execution_count": 36,
     "metadata": {},
     "output_type": "execute_result"
    }
   ],
   "source": [
    "list_reviews"
   ]
  },
  {
   "cell_type": "code",
   "execution_count": 21,
   "metadata": {},
   "outputs": [],
   "source": [
    "headers = {\n",
    "    'User-Agent': 'Mozilla/5.0 (Windows NT 10.0;Win64) AppleWebkit/537.36 (KHTML, like Gecko) Chrome/89.0.4389.82 Safari/537.36',\n",
    "    'Accept-Language': 'en-US,en;q=0.9',\n",
    "}\n",
    "URL = \"https://www.amazon.it/Astroworld-2-LP-Travis-Scott/product-reviews/B07FZ99HXL/ref=cm_cr_getr_d_paging_btm_next_3?ie=UTF8&reviewerType=all_reviews&pageNumber=3\"\n",
    "webpage = requests.get(URL, headers=headers)\n",
    "soup = BeautifulSoup(webpage.content, 'html.parser')\n",
    "rev = soup.find_all(\"span\", {'data-hook': 'review-body'})"
   ]
  },
  {
   "cell_type": "code",
   "execution_count": 22,
   "metadata": {},
   "outputs": [
    {
     "data": {
      "text/plain": [
       "[]"
      ]
     },
     "execution_count": 22,
     "metadata": {},
     "output_type": "execute_result"
    }
   ],
   "source": [
    "rev"
   ]
  }
 ],
 "metadata": {
  "kernelspec": {
   "display_name": "Python_last",
   "language": "python",
   "name": "python3"
  },
  "language_info": {
   "codemirror_mode": {
    "name": "ipython",
    "version": 3
   },
   "file_extension": ".py",
   "mimetype": "text/x-python",
   "name": "python",
   "nbconvert_exporter": "python",
   "pygments_lexer": "ipython3",
   "version": "3.11.2"
  },
  "orig_nbformat": 4
 },
 "nbformat": 4,
 "nbformat_minor": 2
}
