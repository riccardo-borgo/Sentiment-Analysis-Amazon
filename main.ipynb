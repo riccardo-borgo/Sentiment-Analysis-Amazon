{
 "cells": [
  {
   "attachments": {},
   "cell_type": "markdown",
   "metadata": {},
   "source": [
    "### Importing Libraries"
   ]
  },
  {
   "cell_type": "code",
   "execution_count": 41,
   "metadata": {},
   "outputs": [],
   "source": [
    "import pandas as pd\n",
    "import numpy as np\n",
    "from bs4 import BeautifulSoup\n",
    "import requests"
   ]
  },
  {
   "cell_type": "code",
   "execution_count": 42,
   "metadata": {},
   "outputs": [],
   "source": [
    "HEADERS = ({'User-Agent': 'Mozilla/5.0 (X11; Linux x86_64)AppleWebKit/537.36 (KHTML, like Gecko)Chrome/44.0.2403.157 Safari/537.36', 'Accept-Language': 'en-US, en;q=0.5'})\n",
    "URL = \"https://www.amazon.it/nuova-blink-outdoor-videocamera-di-sicurezza-in-hd-senza-fili-resistente-alle-intemperie-batteria-con-2-anni-di-autonomia-con-rilevazione-di-movimento-sistema-a-1-telecamera/product-reviews/B086DKVS1P/ref=cm_cr_dp_d_show_all_btm?ie=UTF8&reviewerType=all_reviews\"\n",
    " \n",
    "webpage = requests.get(URL, headers=HEADERS)\n",
    "soup = BeautifulSoup(webpage.content, 'lxml')"
   ]
  },
  {
   "cell_type": "code",
   "execution_count": 43,
   "metadata": {},
   "outputs": [
    {
     "name": "stdout",
     "output_type": "stream",
     "text": [
      "[<span class=\"a-size-base review-text review-text-content\" data-hook=\"review-body\">\n",
      "<span>dopo ormai più di 1 mese di utilizzo posso dare la mia opinione.<br/>PRO:<br/>- facili da installare, basta un trapano e l'utilizzo delle viti in dotazioni<br/>- bella da vedere e non ingombrante<br/>- applicazione blink fatta molto bene, notifiche sempre puntuali<br/>- buona visione<br/>CONTRO:<br/>- la visione notturna non è eccelsa, si vede un po sgranato (voto: 7/10)<br/>- il video rispetto al live arriva abbastanza in ritarso (4/5 secondi)<br/>- purtroppo la videocamera è fissa e non ruota)<br/><br/>detto ciò ne ho acquistate 3 a 120€ (2 da esterno e 2 da interno) ottimo prezzo sicuramente</span>\n",
      "</span>, <span class=\"a-size-base review-text review-text-content\" data-hook=\"review-body\">\n",
      "<span>Un po macchinose quando ad esempio voglio guardarle ci mette tempo oppure quando devo aprire le registrazioni molto lento ma di positivo hanno la batteria che è molto comoda per installazioni veloci🤗</span>\n",
      "</span>, <span class=\"a-size-base review-text review-text-content\" data-hook=\"review-body\"><div class=\"a-section a-spacing-small a-spacing-top-mini video-block\" id=\"video-block-R2GGR7HKOY6CDS\">\n",
      "<div class=\"cr-video-desktop cr-video-desktop-placeholder\" data-review-id=\"R2GGR7HKOY6CDS\" data-thumbnail-url=\"https://m.media-amazon.com/images/I/51BN1WQ+dML._SY256._SY256.jpg\" data-video-url=\"https://m.media-amazon.com/images/S/vse-vms-transcoding-artifact-eu-west-1-prod/b918bcb2-0f58-42c1-ab8a-dd2317f01ec9/default.jobtemplate.hls.m3u8\" id=\"review-video-id-R2GGR7HKOY6CDS\">\n",
      "<div class=\"cr-media-status-container\">\n",
      "<span class=\"a-spinner a-spinner-medium cr-media-spinner\"></span>\n",
      "<span class=\"a-color-inverse cr-media-error-msg\">\n",
      "                    Impossibile caricare il contenuto multimediale.\n",
      "                </span>\n",
      "</div>\n",
      "</div>\n",
      "</div><input class=\"video-url\" name=\"\" type=\"hidden\" value=\"https://m.media-amazon.com/images/S/vse-vms-transcoding-artifact-eu-west-1-prod/b918bcb2-0f58-42c1-ab8a-dd2317f01ec9/default.jobtemplate.mp4.480.mp4\"/><input class=\"video-slate-img-url\" name=\"\" type=\"hidden\" value=\"https://m.media-amazon.com/images/I/51BN1WQ+dML._SY256._SY256.jpg\"/>\n",
      "<span> Comprato su Amazon in offerta 1 SyncModule e 2 cam outdoor. L'installazione è pratica e veloce. Si installa l'App su smartphone, si posizionano le telecamere e si configura il SyncModule connettendo le telecamere.<br/><br/>1) qualitativamente per la fascia di prezzo i materiali sono buoni e la costruzione è ben realizzata. Dimensioni davvero contenute;<br/>2) Visione notturna efficace, il riconoscimento del viso però dipende dalla distanza del soggetto dalla cam; Durante il giorno la situazione migliora molto ma comunque dipende sempre dalla distanza del soggetto dalla cam.<br/>3) angolo di visione 110°, mi aspettavo di meglio ma considerando che devo riprendere l'interno di due stanze va bene;<br/>4) rilevamento movimenti buono, con salvataggio su cloud ritarda di qualche secondo la registrazione (io ho la fibra e modem ultra veloci ma comunque il risultato è lontano dai tempi del salvataggio in locale). Salvataggio su usb interna al SyncModule è decisamente buono.<br/><br/>5) L'audio lo reputo davvero ottimo.<br/>6) Noto un certo riscaldamento della key (SanDisk UltraFit USB3.1 64GB) inserita nel SyncMod.<br/>7) Filmati visionabili solo da App installata su smartphone. Così come l'ON/OFF del sistema, gli avvisi di Alert e le visioni di controllo. Tutto solo su app dello smartphone.<br/><br/>Considerazione sul video. Non vi aspettate una qualità d'immagine definita. Visto da smartphone \"sembra\" ben definita ma su PC per vedere i dettagli - ingrandendo l'immagine - appare molto sgranata. Comunque pur trattandosi di un 1920x1080px le immagini appaiono chiare basta che non si debbano effettuare zoom troppo spinti.<br/><br/>Ho acquistato oltre al kit Blink anche una Memory key USB per il salvataggio dei filmati in locale visto che allo scadere dei 30gg la promo su cloud cessa e si deve procedere ad un abbonamento.<br/><br/>Molti accessori disponibili per CAM e SyncModule. Sia per uso interno che esterno. Il prossimo acquisto sarà una batteria di alimentazione in caso manchi la corrente.</span>\n",
      "</span>, <span class=\"a-size-base review-text review-text-content\" data-hook=\"review-body\">\n",
      "<span>Acquistata insieme ad Echo Show 8 durante il black friday a un prezzo ridicolo considerando le caratteristiche.<br/>La telecamera si collega al wi-fi di casa e grazie ad un piccolo modulo (anch'esso collegato a internet) registra le riprese fatte.<br/>Da premettere che dal momento dell'attivazione avrete un periodo di prova di 30 gg nel quale avrete tutte le funzioni \"premium\" offerte da Blink come il salvataggio dei filmati direttamente sul cloud.<br/>Questo non è assolutamente indispensabile, infatti qualora decideste di non abbonarvi, potrete inserire una chiavetta usb nel modulo, andando a registrarvi sopra tutti i filmati. Ricordatevi solo di andare a svuotare la memoria di tanto in tanto.<br/>Tornando alla telecamera invece, è decisamente robusta e resistente, con il coperchio posteriore (unico pezzo removibile per accedere alle batterie) dotato di guarnizione, che la rende impermeabile e adatta ad essere usata all'esterno come da specifiche.<br/>I filmati di giorno hanno una buonissima risoluzione, mentre quelli di notte sono perlomeno migliorabili. Purtroppo i video notturni sono un pò il tallone d'achille di tutte le video/fotocamere, ma per quello che pagate (specie se presa in sconto) non potete lamentarvi, anzi! I filmati sono sì migliorabili, ma non vengono male e permettono comunque di riconoscere una persona in volto.<br/>L'integrazione con Alexa è presente anche se la skill riconosce pochi comandi vocali e si potrebbe fare di più.<br/>Lato applicazione Blink su telefono invece, è fatta molto bene e si riesce ad impostare davvero tutto in pochi secondi, comprese le zone su cui si vuole che la rilevazione del movimento non avvenga (zone di privacy).<br/>L'audio delle registrazioni è praticamente da lasciar perdere perchè quello che sentirete è solo tanto rumore con effetto rimbombo, ma alla fine vi serve davvero l'audio? A me interessa che riprenda. Carina invece la possibilità di parlare tramite la telecamera grazie all'app.<br/>Ultima cosa da far notare è rispetto al led di stato: sulla parte anteriore della cam infatti è presente un piccolo led che informa sullo stato della telecamera, che può essere sempre spento o sempre acceso semplicemente decidendolo dall'app. Tuttavia, se decideste di tenerlo sempre spento, sappiate che quando la telecamera registrerà un filmato, il led sarà comunque acceso.<br/>In conclusione, visto il costo secondo me è da prendere ad occhi chiusi!<br/>Consente di tenere sotto controllo i punti sensibili senza la necessità di investire svariate centinaia di euro in sistemi complessi e per le esigenze comuni probabilmente inutili.</span>\n",
      "</span>, <span class=\"a-size-base review-text review-text-content\" data-hook=\"review-body\">\n",
      "<span>È un buon sistema di telecamere.<br/>Semplice da configurare.<br/>Il sensore ottico di movimento riesce a percepire un eventuale movimento fino a 3 metri.<br/>Il supporto per il Sync module  dovrebbe essere incluso invece di costringere ad acquistarlo separatamente.</span>\n",
      "</span>, <span class=\"a-size-base review-text review-text-content\" data-hook=\"review-body\">\n",
      "<span>Il prodotto è buono e sembra affidabile dai primi test; la visione notturna e diurna è adeguata ed il rilevamento di movimento è risultato tempestivo. Il grande vantaggio rispetto ad altri sistemi, oltre all'alimentazione autonoma e veloce installazione, è dato dalla sua compattezza che possono farlo anche mimetizzare e comunque non rendere invadente come altri sistemi.<br/>Unica pecca che per ora ho riscontrato è in alcuni casi la reattività del sistema che talvolta richiede parecchi secondi prima di ottenere l'immagine. Il giudizio finale è per ora più che positivo.<br/>Poi secondo me l'abbonamento al cloud potrebbe essere utile ma si può fare tranquillamente a meno, l'archiviazione su USB è molto efficiente ed i filmati si vedono benissimo anche se non hanno l'anteprima.</span>\n",
      "</span>, <span class=\"a-size-base review-text review-text-content\" data-hook=\"review-body\">\n",
      "<span>A qualcuno è capitato di programmare il sensore di movimento in certi orari ma continua a registrare i movimenti in qualsiasi orario?</span>\n",
      "</span>, <span class=\"a-size-base review-text review-text-content\" data-hook=\"review-body\">\n",
      "<span>L app molto intuitiva e semplice. Configurazione immediata. La durata delle batterie è più che soddisfacente (sono sei mesi che la utilizzo ed ancora non ho cambiato le batterie). La qualità delle immagine è buona sia con luce che al buio, così come l audio in entrata ed in uscita. Diciamo in linea con il prezzo</span>\n",
      "</span>, <span class=\"a-size-base review-text review-text-content\" data-hook=\"review-body\"><div class=\"a-section a-spacing-small a-spacing-top-mini video-block\" id=\"video-block-R18LBTUD6BU73Z\">\n",
      "<div class=\"cr-video-desktop cr-video-desktop-placeholder\" data-review-id=\"R18LBTUD6BU73Z\" data-thumbnail-url=\"https://m.media-amazon.com/images/I/41LRps223hL._SY256._SY256.jpg\" data-video-url=\"https://m.media-amazon.com/images/S/vse-vms-transcoding-artifact-eu-west-1-prod/eb1a49a1-a05e-481c-8389-5ff973a06991/default.jobtemplate.hls.m3u8\" id=\"review-video-id-R18LBTUD6BU73Z\">\n",
      "<div class=\"cr-media-status-container\">\n",
      "<span class=\"a-spinner a-spinner-medium cr-media-spinner\"></span>\n",
      "<span class=\"a-color-inverse cr-media-error-msg\">\n",
      "                    Impossibile caricare il contenuto multimediale.\n",
      "                </span>\n",
      "</div>\n",
      "</div>\n",
      "</div><input class=\"video-url\" name=\"\" type=\"hidden\" value=\"https://m.media-amazon.com/images/S/vse-vms-transcoding-artifact-eu-west-1-prod/eb1a49a1-a05e-481c-8389-5ff973a06991/default.jobtemplate.mp4.480.mp4\"/><input class=\"video-slate-img-url\" name=\"\" type=\"hidden\" value=\"https://m.media-amazon.com/images/I/41LRps223hL._SY256._SY256.jpg\"/>\n",
      "<span> 📆 17/11/22<br/>💰 €32<br/>⭐️⭐️⭐️⭐️⭐️<br/><br/>La videocamera Blink outdoor è una piccola scatoletta capace di rispondere a tutti i bisogni di chi cerca un sistema di video sorveglianza. L’ho comprata per uso interno anche se potrebbe essere usata benissimo esternamente. Fino ad oggi nessun problema, facile da impostare e senza ombra di dubbio un app semplice e ben fatta.<br/>La possibilità di avere un dispositivo senza fili è sicuramente un vantaggio di Blink, in grado di far scegliere all’utente anche la durata della batteria a seconda delle funzioni impostate.<br/><br/>✅ PRO<br/>- Facile da impostare<br/>- Non è fissa, quindi si ha la possibilità di spostarla in qualsiasi momento (ovviamente con copertura wifi)<br/>- Possibilità di scegliere se attivare l’archiviazione in cloud (ha un prezzo mensile) o in local tramite il Blink Sync 2 (nel mio caso incluso nella scatola)<br/>- Buona qualità video<br/>- Batterie incluse<br/>- Possibilità di scattare foto ad ogni ora<br/>- Possibilità di spegnere il led di accensione<br/>- Ricezione notifiche<br/>- Compatibilità con Alexa<br/>- Possibilità di eliminare delle zone di allarme<br/>- Visione in diretta<br/><br/>❌ CONTRO<br/>Ben pochi a questo prezzo ma:<br/>- Potrebbe essere migliore la qualità notturna<br/><br/>⬇️ SPECIFICHE:<br/>Diagonale da 110°<br/>Registra e visualizza video in HD a 1080p sia di giorno che di notte grazie alla visione notturna a infrarossi in HD.<br/>Visualizza le immagini acquisite in 630 x 360 nHD.<br/>Fino a 30 fotogrammi al secondo<br/>71 x 71 x 31 mm<br/>48 grammi<br/>Brevetto Immedia – AC1002B, 4 core / 200 Mhz<br/>Batteria della videocamera: 2 batterie AA al litio metallico da 1,5 V (non ricaricabili).<br/>Alimentazione del Sync Module 2: Trasformatore da 100-220 V CA a 5 V CC incluso<br/>*Durata della batteria fino a 2 anni, basata su 5.882 secondi di Live View, 43.200 secondi di registrazione attivata dal movimento e 4.788 secondi di comunicazione bidirezionale. La durata della batteria varia in base alle impostazioni del dispositivo, all’uso e ai fattori ambientali.<br/>Connessione a Internet ad alta velocità (p. es. a banda larga, fibra o DSL) sempre attiva<br/>Rete Wi-Fi: 2,4 GHz 802.11b/g/n<br/>Connessione a Internet ad alta velocità (p. es. a banda larga, fibra o DSL) sempre attiva<br/>Rete Wi-Fi: 2,4 GHz 802.11b/g/n<br/><br/>👉 VALUTAZIONE FINALE:<br/>Un ottimo prodotto a un prezzo accessibile. Sicuramente migliore rispetto a tante alternative che si trovano sul mercato<br/>Da comprare se si ha la necessità di sorvegliare spazi 24 ore su 24<br/><br/>📦 CONTENUTO SCATOLA:<br/>Videocamera, Sync2, cavo USB, alimentatore corrente, 2 batterie AA, kit installazione</span>\n",
      "</span>, <span class=\"a-size-base review-text review-text-content\" data-hook=\"review-body\">\n",
      "<span>Ottima telecamera, ottimo servizio di cloud, passo direttamente a ciò che non mi piace, anche se in ogni caso metto 5 stelle perché è un ottimo prodotto:<br/>1. il supporto è ad incastro e un ladro può staccarla facilmente e portarsela via;<br/>2. l'archiviazione locale sul Blink System avviene in differita circa ogni 24 ore (se un ladro si porta la sola telecamera, si resta senza immagini perché non vengono salvate subito);<br/>3. non c'è un link diretto alla live View, per cui non è facile collegare un NVR esterno, per ovviare al problema n. 2.<br/>4. non ha registrazione 24/7/365, ma solo su rilevazione di movimento (è normale, perché ha una batteria e deve fare attenzione al consumo energetico);<br/>Insomma, alla fine la consiglio perché è comoda, ma solo se si è disposti a pagare per il servizio cloud Blink</span>\n",
      "</span>]\n"
     ]
    }
   ],
   "source": [
    "title = soup.find_all(\"span\", attrs={\"data-hook\": 'review-body'})\n",
    "print(title)"
   ]
  }
 ],
 "metadata": {
  "kernelspec": {
   "display_name": "Python_last",
   "language": "python",
   "name": "python3"
  },
  "language_info": {
   "codemirror_mode": {
    "name": "ipython",
    "version": 3
   },
   "file_extension": ".py",
   "mimetype": "text/x-python",
   "name": "python",
   "nbconvert_exporter": "python",
   "pygments_lexer": "ipython3",
   "version": "3.11.2"
  },
  "orig_nbformat": 4
 },
 "nbformat": 4,
 "nbformat_minor": 2
}
