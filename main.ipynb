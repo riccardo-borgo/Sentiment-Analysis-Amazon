{
 "cells": [
  {
   "attachments": {},
   "cell_type": "markdown",
   "metadata": {},
   "source": [
    "### Importing Libraries"
   ]
  },
  {
   "cell_type": "code",
   "execution_count": 142,
   "metadata": {},
   "outputs": [],
   "source": [
    "import pandas as pd\n",
    "import numpy as np\n",
    "from bs4 import BeautifulSoup\n",
    "import requests\n",
    "import nltk"
   ]
  },
  {
   "cell_type": "code",
   "execution_count": 143,
   "metadata": {},
   "outputs": [],
   "source": [
    "review_title = []\n",
    "review_body = []\n",
    "review_stars = []"
   ]
  },
  {
   "cell_type": "code",
   "execution_count": 144,
   "metadata": {},
   "outputs": [],
   "source": [
    "URL = \"https://www.amazon.it/echo-dot-2022/product-reviews/B09B8X9RGM/ref=cm_cr_dp_d_show_all_btm?ie=UTF8&reviewerType=all_reviews\"\n",
    "\n",
    "headers = {\n",
    "        'authority': 'www.amazon.it',\n",
    "        'pragma': 'no-cache',\n",
    "        'cache-control': 'no-cache',\n",
    "        'dnt': '1',\n",
    "        'upgrade-insecure-requests': '1',\n",
    "        'user-agent': 'Mozilla/5.0 (X11; CrOS x86_64 8172.45.0) AppleWebKit/537.36 (KHTML, like Gecko) Chrome/51.0.2704.64 Safari/537.36',\n",
    "        'accept': 'text/html,application/xhtml+xml,application/xml;q=0.9,image/webp,image/apng,*/*;q=0.8,application/signed-exchange;v=b3;q=0.9',\n",
    "        'sec-fetch-site': 'none',\n",
    "        'sec-fetch-mode': 'navigate',\n",
    "        'sec-fetch-dest': 'document',\n",
    "        'accept-language': 'it-IT,it;en-GB,en-US;q=0.9,en;q=0.8',\n",
    "    }\n",
    "\n",
    "while True:\n",
    "    webpage = requests.get(URL, headers=headers)\n",
    "    soup = BeautifulSoup(webpage.content, 'html.parser')\n",
    "    review_title.append(soup.select('a.review-title'))\n",
    "    review_body.append(soup.select('div.a-row.review-data span.review-text'))\n",
    "    review_stars.append(soup.select('div.a-row:nth-of-type(2) > a.a-link-normal:nth-of-type(1)'))\n",
    "    if soup.select_one('li.a-last a'):\n",
    "        next_url = soup.select_one('li.a-last a').get('href')\n",
    "        URL = f\"https://www.amazon.it{next_url}\"\n",
    "    else:\n",
    "        break\n"
   ]
  },
  {
   "cell_type": "code",
   "execution_count": 145,
   "metadata": {},
   "outputs": [],
   "source": [
    "review_title = [[element.text.replace('\\n', '') for element in sublist] for sublist in review_title]\n",
    "review_body = [[element.text.replace('\\n', '') for element in sublist] for sublist in review_body]\n",
    "review_stars = [[element.get('title').split()[0] for element in sublist] for sublist in review_stars]"
   ]
  }
 ],
 "metadata": {
  "kernelspec": {
   "display_name": "Python_last",
   "language": "python",
   "name": "python3"
  },
  "language_info": {
   "codemirror_mode": {
    "name": "ipython",
    "version": 3
   },
   "file_extension": ".py",
   "mimetype": "text/x-python",
   "name": "python",
   "nbconvert_exporter": "python",
   "pygments_lexer": "ipython3",
   "version": "3.11.2"
  },
  "orig_nbformat": 4
 },
 "nbformat": 4,
 "nbformat_minor": 2
}
