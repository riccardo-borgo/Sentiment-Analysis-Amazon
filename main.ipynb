{
 "cells": [
  {
   "attachments": {},
   "cell_type": "markdown",
   "metadata": {},
   "source": [
    "### Importing Libraries"
   ]
  },
  {
   "cell_type": "code",
   "execution_count": 130,
   "metadata": {},
   "outputs": [],
   "source": [
    "import pandas as pd\n",
    "import numpy as np\n",
    "from bs4 import BeautifulSoup\n",
    "import requests\n",
    "import nltk\n",
    "import re\n",
    "import socket"
   ]
  },
  {
   "cell_type": "code",
   "execution_count": 131,
   "metadata": {},
   "outputs": [],
   "source": [
    "review_title = []\n",
    "review_body = []\n",
    "review_stars = []"
   ]
  },
  {
   "cell_type": "code",
   "execution_count": 132,
   "metadata": {},
   "outputs": [
    {
     "ename": "UnicodeError",
     "evalue": "encoding with 'idna' codec failed (UnicodeError: label too long)",
     "output_type": "error",
     "traceback": [
      "\u001b[0;31m---------------------------------------------------------------------------\u001b[0m",
      "\u001b[0;31mUnicodeError\u001b[0m                              Traceback (most recent call last)",
      "File \u001b[0;32m~/opt/anaconda3/envs/Python_last/lib/python3.11/encodings/idna.py:165\u001b[0m, in \u001b[0;36mCodec.encode\u001b[0;34m(self, input, errors)\u001b[0m\n\u001b[1;32m    164\u001b[0m \u001b[39mif\u001b[39;00m \u001b[39mlen\u001b[39m(labels[\u001b[39m-\u001b[39m\u001b[39m1\u001b[39m]) \u001b[39m>\u001b[39m\u001b[39m=\u001b[39m \u001b[39m64\u001b[39m:\n\u001b[0;32m--> 165\u001b[0m     \u001b[39mraise\u001b[39;00m \u001b[39mUnicodeError\u001b[39;00m(\u001b[39m\"\u001b[39m\u001b[39mlabel too long\u001b[39m\u001b[39m\"\u001b[39m)\n\u001b[1;32m    166\u001b[0m \u001b[39mreturn\u001b[39;00m result, \u001b[39mlen\u001b[39m(\u001b[39minput\u001b[39m)\n",
      "\u001b[0;31mUnicodeError\u001b[0m: label too long",
      "\nThe above exception was the direct cause of the following exception:\n",
      "\u001b[0;31mUnicodeError\u001b[0m                              Traceback (most recent call last)",
      "Cell \u001b[0;32mIn[132], line 11\u001b[0m\n\u001b[1;32m      3\u001b[0m headers \u001b[39m=\u001b[39m {\n\u001b[1;32m      4\u001b[0m         \u001b[39m'\u001b[39m\u001b[39mauthority\u001b[39m\u001b[39m'\u001b[39m: \u001b[39m'\u001b[39m\u001b[39mwww.amazon.it\u001b[39m\u001b[39m'\u001b[39m,\n\u001b[1;32m      5\u001b[0m         \u001b[39m'\u001b[39m\u001b[39muser-agent\u001b[39m\u001b[39m'\u001b[39m: \u001b[39m'\u001b[39m\u001b[39mMozilla/5.0 (X11; CrOS x86_64 8172.45.0) AppleWebKit/537.36 (KHTML, like Gecko) Chrome/51.0.2704.64 Safari/537.36\u001b[39m\u001b[39m'\u001b[39m,\n\u001b[1;32m      6\u001b[0m         \u001b[39m'\u001b[39m\u001b[39maccept\u001b[39m\u001b[39m'\u001b[39m: \u001b[39m'\u001b[39m\u001b[39mtext/html,application/xhtml+xml,application/xml;q=0.9,image/webp,image/apng,*/*;q=0.8,application/signed-exchange;v=b3;q=0.9\u001b[39m\u001b[39m'\u001b[39m,\n\u001b[1;32m      7\u001b[0m         \u001b[39m'\u001b[39m\u001b[39maccept-language\u001b[39m\u001b[39m'\u001b[39m: \u001b[39m'\u001b[39m\u001b[39mit-IT,it;en-GB,en-US;q=0.9,en;q=0.8\u001b[39m\u001b[39m'\u001b[39m,\n\u001b[1;32m      8\u001b[0m     }\n\u001b[1;32m     10\u001b[0m \u001b[39mwhile\u001b[39;00m \u001b[39mTrue\u001b[39;00m:\n\u001b[0;32m---> 11\u001b[0m     socket\u001b[39m.\u001b[39;49mcreate_connection((URL, \u001b[39m433\u001b[39;49m), timeout\u001b[39m=\u001b[39;49m\u001b[39m2\u001b[39;49m)\n\u001b[1;32m     12\u001b[0m     webpage \u001b[39m=\u001b[39m requests\u001b[39m.\u001b[39mget(URL, headers\u001b[39m=\u001b[39mheaders, timeout\u001b[39m=\u001b[39m(\u001b[39m5\u001b[39m,\u001b[39m7\u001b[39m))\n\u001b[1;32m     13\u001b[0m     soup \u001b[39m=\u001b[39m BeautifulSoup(webpage\u001b[39m.\u001b[39mcontent, \u001b[39m'\u001b[39m\u001b[39mhtml.parser\u001b[39m\u001b[39m'\u001b[39m)\n",
      "File \u001b[0;32m~/opt/anaconda3/envs/Python_last/lib/python3.11/socket.py:827\u001b[0m, in \u001b[0;36mcreate_connection\u001b[0;34m(address, timeout, source_address, all_errors)\u001b[0m\n\u001b[1;32m    825\u001b[0m host, port \u001b[39m=\u001b[39m address\n\u001b[1;32m    826\u001b[0m exceptions \u001b[39m=\u001b[39m []\n\u001b[0;32m--> 827\u001b[0m \u001b[39mfor\u001b[39;00m res \u001b[39min\u001b[39;00m getaddrinfo(host, port, \u001b[39m0\u001b[39;49m, SOCK_STREAM):\n\u001b[1;32m    828\u001b[0m     af, socktype, proto, canonname, sa \u001b[39m=\u001b[39m res\n\u001b[1;32m    829\u001b[0m     sock \u001b[39m=\u001b[39m \u001b[39mNone\u001b[39;00m\n",
      "File \u001b[0;32m~/opt/anaconda3/envs/Python_last/lib/python3.11/socket.py:962\u001b[0m, in \u001b[0;36mgetaddrinfo\u001b[0;34m(host, port, family, type, proto, flags)\u001b[0m\n\u001b[1;32m    959\u001b[0m \u001b[39m# We override this function since we want to translate the numeric family\u001b[39;00m\n\u001b[1;32m    960\u001b[0m \u001b[39m# and socket type values to enum constants.\u001b[39;00m\n\u001b[1;32m    961\u001b[0m addrlist \u001b[39m=\u001b[39m []\n\u001b[0;32m--> 962\u001b[0m \u001b[39mfor\u001b[39;00m res \u001b[39min\u001b[39;00m _socket\u001b[39m.\u001b[39;49mgetaddrinfo(host, port, family, \u001b[39mtype\u001b[39;49m, proto, flags):\n\u001b[1;32m    963\u001b[0m     af, socktype, proto, canonname, sa \u001b[39m=\u001b[39m res\n\u001b[1;32m    964\u001b[0m     addrlist\u001b[39m.\u001b[39mappend((_intenum_converter(af, AddressFamily),\n\u001b[1;32m    965\u001b[0m                      _intenum_converter(socktype, SocketKind),\n\u001b[1;32m    966\u001b[0m                      proto, canonname, sa))\n",
      "\u001b[0;31mUnicodeError\u001b[0m: encoding with 'idna' codec failed (UnicodeError: label too long)"
     ]
    }
   ],
   "source": [
    "URL = \"https://www.amazon.it/echo-dot-2022/product-reviews/B09B8X9RGM/ref=cm_cr_dp_d_show_all_btm?ie=UTF8&reviewerType=all_reviews\"\n",
    "\n",
    "headers = {\n",
    "        'authority': 'www.amazon.it',\n",
    "        'user-agent': 'Mozilla/5.0 (X11; CrOS x86_64 8172.45.0) AppleWebKit/537.36 (KHTML, like Gecko) Chrome/51.0.2704.64 Safari/537.36',\n",
    "        'accept': 'text/html,application/xhtml+xml,application/xml;q=0.9,image/webp,image/apng,*/*;q=0.8,application/signed-exchange;v=b3;q=0.9',\n",
    "        'accept-language': 'it-IT,it;en-GB,en-US;q=0.9,en;q=0.8',\n",
    "    }\n",
    "\n",
    "while True:\n",
    "    socket.create_connection((URL, 433), timeout=2)\n",
    "    webpage = requests.get(URL, headers=headers)\n",
    "    soup = BeautifulSoup(webpage.content, 'html.parser')\n",
    "    review_title.append(soup.select('a.review-title'))\n",
    "    review_body.append(soup.select('div.a-row.review-data span.review-text'))\n",
    "    review_stars.append(soup.select('div.a-row:nth-of-type(2) > a.a-link-normal:nth-of-type(1)'))\n",
    "    if soup.select_one('li.a-last a'):\n",
    "        next_url = soup.select_one('li.a-last a').get('href')\n",
    "        URL = f\"https://www.amazon.it{next_url}\"\n",
    "    else:\n",
    "        break\n"
   ]
  },
  {
   "cell_type": "code",
   "execution_count": null,
   "metadata": {},
   "outputs": [],
   "source": [
    "review_title = [[element.text.replace('\\n', '') for element in sublist] for sublist in review_title]\n",
    "review_body = [[element.text.replace('\\n', '') for element in sublist] for sublist in review_body]\n",
    "review_stars = [[element.get('title').split()[0] for element in sublist] for sublist in review_stars]"
   ]
  },
  {
   "cell_type": "code",
   "execution_count": null,
   "metadata": {},
   "outputs": [],
   "source": [
    "review_body = [[re.sub(r'[^\\w\\s,]', ' ', element) for element in sublist] for sublist in review_body] # remove any emojis from the body"
   ]
  },
  {
   "cell_type": "code",
   "execution_count": null,
   "metadata": {},
   "outputs": [
    {
     "data": {
      "text/html": [
       "<div>\n",
       "<style scoped>\n",
       "    .dataframe tbody tr th:only-of-type {\n",
       "        vertical-align: middle;\n",
       "    }\n",
       "\n",
       "    .dataframe tbody tr th {\n",
       "        vertical-align: top;\n",
       "    }\n",
       "\n",
       "    .dataframe thead th {\n",
       "        text-align: right;\n",
       "    }\n",
       "</style>\n",
       "<table border=\"1\" class=\"dataframe\">\n",
       "  <thead>\n",
       "    <tr style=\"text-align: right;\">\n",
       "      <th></th>\n",
       "      <th>Title</th>\n",
       "      <th>Body</th>\n",
       "      <th>Stars</th>\n",
       "    </tr>\n",
       "  </thead>\n",
       "  <tbody>\n",
       "  </tbody>\n",
       "</table>\n",
       "</div>"
      ],
      "text/plain": [
       "Empty DataFrame\n",
       "Columns: [Title, Body, Stars]\n",
       "Index: []"
      ]
     },
     "execution_count": 128,
     "metadata": {},
     "output_type": "execute_result"
    }
   ],
   "source": [
    "df = pd.DataFrame(columns = {'Title':review_title, 'Body':review_body, 'Stars':review_stars})\n",
    "df"
   ]
  },
  {
   "cell_type": "code",
   "execution_count": null,
   "metadata": {},
   "outputs": [],
   "source": [
    "df.to_csv('data.csv', index=False)"
   ]
  }
 ],
 "metadata": {
  "kernelspec": {
   "display_name": "Python_last",
   "language": "python",
   "name": "python3"
  },
  "language_info": {
   "codemirror_mode": {
    "name": "ipython",
    "version": 3
   },
   "file_extension": ".py",
   "mimetype": "text/x-python",
   "name": "python",
   "nbconvert_exporter": "python",
   "pygments_lexer": "ipython3",
   "version": "3.11.2"
  },
  "orig_nbformat": 4
 },
 "nbformat": 4,
 "nbformat_minor": 2
}
