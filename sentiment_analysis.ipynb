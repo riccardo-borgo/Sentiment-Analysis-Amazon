{
 "cells": [
  {
   "attachments": {},
   "cell_type": "markdown",
   "metadata": {},
   "source": [
    "## Sentiment analysis with few plots for the EDA"
   ]
  },
  {
   "attachments": {},
   "cell_type": "markdown",
   "metadata": {},
   "source": [
    "### Importing Libraries"
   ]
  },
  {
   "cell_type": "code",
   "execution_count": 50,
   "metadata": {},
   "outputs": [],
   "source": [
    "import pandas as pd\n",
    "import nltk\n",
    "from nltk.sentiment import SentimentIntensityAnalyzer\n",
    "from nltk.stem import WordNetLemmatizer\n",
    "import matplotlib.pyplot as plt\n",
    "import matplotlib.patches as patches\n",
    "import seaborn as sns\n",
    "from sklearn.feature_extraction.text import TfidfVectorizer"
   ]
  },
  {
   "attachments": {},
   "cell_type": "markdown",
   "metadata": {},
   "source": [
    "### Reading the dataset from scraping.ipynb"
   ]
  },
  {
   "cell_type": "code",
   "execution_count": 12,
   "metadata": {},
   "outputs": [],
   "source": [
    "df = pd.read_csv('data.csv', dtype={'Title':'str', 'Body':'str', 'Stars':'int64'})"
   ]
  },
  {
   "cell_type": "code",
   "execution_count": 13,
   "metadata": {},
   "outputs": [
    {
     "data": {
      "text/html": [
       "<div>\n",
       "<style scoped>\n",
       "    .dataframe tbody tr th:only-of-type {\n",
       "        vertical-align: middle;\n",
       "    }\n",
       "\n",
       "    .dataframe tbody tr th {\n",
       "        vertical-align: top;\n",
       "    }\n",
       "\n",
       "    .dataframe thead th {\n",
       "        text-align: right;\n",
       "    }\n",
       "</style>\n",
       "<table border=\"1\" class=\"dataframe\">\n",
       "  <thead>\n",
       "    <tr style=\"text-align: right;\">\n",
       "      <th></th>\n",
       "      <th>Title</th>\n",
       "      <th>Body</th>\n",
       "      <th>Stars</th>\n",
       "    </tr>\n",
       "  </thead>\n",
       "  <tbody>\n",
       "    <tr>\n",
       "      <th>0</th>\n",
       "      <td>ne puoi fare a meno fin quando non lo provi</td>\n",
       "      <td>spedizione amazon sulle spedizione è una gar...</td>\n",
       "      <td>5</td>\n",
       "    </tr>\n",
       "    <tr>\n",
       "      <th>1</th>\n",
       "      <td>ottimo ma</td>\n",
       "      <td>allora non si capisce perché la versione con o...</td>\n",
       "      <td>5</td>\n",
       "    </tr>\n",
       "    <tr>\n",
       "      <th>2</th>\n",
       "      <td>qualità audio ottima  ma attenzione a disattiv...</td>\n",
       "      <td>l echo dot è un dispositivo interessante  ma h...</td>\n",
       "      <td>4</td>\n",
       "    </tr>\n",
       "    <tr>\n",
       "      <th>3</th>\n",
       "      <td>la domotica alla portata di tutti</td>\n",
       "      <td>spedizione rapidissima come da tradizione am...</td>\n",
       "      <td>5</td>\n",
       "    </tr>\n",
       "    <tr>\n",
       "      <th>4</th>\n",
       "      <td>echo dot    un assistente virtuale di qualità ...</td>\n",
       "      <td>ho acquistato l echo dot   e devo dire che son...</td>\n",
       "      <td>5</td>\n",
       "    </tr>\n",
       "  </tbody>\n",
       "</table>\n",
       "</div>"
      ],
      "text/plain": [
       "                                               Title  \\\n",
       "0       ne puoi fare a meno fin quando non lo provi    \n",
       "1                                       ottimo ma      \n",
       "2  qualità audio ottima  ma attenzione a disattiv...   \n",
       "3                  la domotica alla portata di tutti   \n",
       "4  echo dot    un assistente virtuale di qualità ...   \n",
       "\n",
       "                                                Body  Stars  \n",
       "0    spedizione amazon sulle spedizione è una gar...      5  \n",
       "1  allora non si capisce perché la versione con o...      5  \n",
       "2  l echo dot è un dispositivo interessante  ma h...      4  \n",
       "3    spedizione rapidissima come da tradizione am...      5  \n",
       "4  ho acquistato l echo dot   e devo dire che son...      5  "
      ]
     },
     "execution_count": 13,
     "metadata": {},
     "output_type": "execute_result"
    }
   ],
   "source": [
    "df.head()"
   ]
  },
  {
   "attachments": {},
   "cell_type": "markdown",
   "metadata": {},
   "source": [
    "### Removing Stopwords\n",
    "\n",
    "The stopwords are words that are filtered out before, or after, the actual words in the text that carry the information. In fact, most stop words have no particular meaning when isolated from the text. \n",
    "\n",
    "For the further modelling I still included the stopwords since sometimes they remove some context in the phrase."
   ]
  },
  {
   "cell_type": "code",
   "execution_count": 14,
   "metadata": {},
   "outputs": [],
   "source": [
    "list_title = df['Title'].to_list()\n",
    "stopwords = nltk.corpus.stopwords.words('italian')\n",
    "words_title = [word for text in list_title for word in nltk.word_tokenize(text)]\n",
    "words_title_clear = [w for w in words_title if w not in stopwords]"
   ]
  },
  {
   "attachments": {},
   "cell_type": "markdown",
   "metadata": {},
   "source": [
    "### Most common words in titles and bodies\n",
    "\n",
    "The function FreqDist creates a dictionary as per key the word and as value the number of times that word accurs in the text"
   ]
  },
  {
   "cell_type": "code",
   "execution_count": 15,
   "metadata": {},
   "outputs": [],
   "source": [
    "fd_title = nltk.FreqDist(words_title_clear)\n",
    "\n",
    "sorted_fd_title = dict(sorted(fd_title.items(), key=lambda item: item[1], reverse=True)) # sorting the dictionary based on the key (number of occurences per word)"
   ]
  },
  {
   "cell_type": "code",
   "execution_count": 22,
   "metadata": {},
   "outputs": [
    {
     "name": "stderr",
     "output_type": "stream",
     "text": [
      "/var/folders/qg/gd9h1fz150q_s3t9_v7l4qd80000gn/T/ipykernel_1479/1373915822.py:6: FutureWarning: \n",
      "\n",
      "Passing `palette` without assigning `hue` is deprecated and will be removed in v0.14.0. Assign the `x` variable to `hue` and set `legend=False` for the same effect.\n",
      "\n",
      "  ax = sns.barplot(x='Categories', y='Values', data=df_freq_title, palette='Set2')\n"
     ]
    },
    {
     "data": {
      "image/png": "[encoded data removed]",
      "text/plain": [
       "<Figure size 1500x800 with 1 Axes>"
      ]
     },
     "metadata": {},
     "output_type": "display_data"
    }
   ],
   "source": [
    "df_freq_title = pd.DataFrame(list(sorted_fd_title.items())[:10], columns=['Categories', 'Values'])\n",
    "\n",
    "sns.set(style=\"whitegrid\")\n",
    "\n",
    "plt.figure(figsize=(15, 8))\n",
    "ax = sns.barplot(x='Categories', y='Values', data=df_freq_title, palette='Set2')\n",
    "\n",
    "ax.set(xlabel='Word', ylabel='Frequency', title='Frequency of the first ten words in titles')\n",
    "plt.xticks(rotation=45)\n",
    "\n",
    "plt.show()"
   ]
  },
  {
   "cell_type": "code",
   "execution_count": 23,
   "metadata": {},
   "outputs": [],
   "source": [
    "list_body = df['Body'].to_list()\n",
    "list_body = [str(word) for word in list_body]\n",
    "words_body = [word for text in list_body for word in nltk.word_tokenize(text)]\n",
    "words_body_clear = [w for w in words_body if w.lower() not in stopwords]"
   ]
  },
  {
   "cell_type": "code",
   "execution_count": 24,
   "metadata": {},
   "outputs": [],
   "source": [
    "fd_body = nltk.FreqDist(words_body_clear)\n",
    "\n",
    "sorted_fd_body = dict(sorted(fd_body.items(), key=lambda item: item[1], reverse=True))"
   ]
  },
  {
   "cell_type": "code",
   "execution_count": 25,
   "metadata": {},
   "outputs": [
    {
     "name": "stderr",
     "output_type": "stream",
     "text": [
      "/var/folders/qg/gd9h1fz150q_s3t9_v7l4qd80000gn/T/ipykernel_1479/4033434615.py:6: FutureWarning: \n",
      "\n",
      "Passing `palette` without assigning `hue` is deprecated and will be removed in v0.14.0. Assign the `x` variable to `hue` and set `legend=False` for the same effect.\n",
      "\n",
      "  ax = sns.barplot(x='Categories', y='Values', data=df_freq_body, palette='Set2')\n"
     ]
    },
    {
     "data": {
      "image/png": "[encoded data removed]",
      "text/plain": [
       "<Figure size 1500x800 with 1 Axes>"
      ]
     },
     "metadata": {},
     "output_type": "display_data"
    }
   ],
   "source": [
    "df_freq_body = pd.DataFrame(list(sorted_fd_body.items())[:10], columns=['Categories', 'Values'])\n",
    "\n",
    "sns.set(style=\"whitegrid\")\n",
    "\n",
    "plt.figure(figsize=(15, 8))\n",
    "ax = sns.barplot(x='Categories', y='Values', data=df_freq_body, palette='Set2')\n",
    "\n",
    "ax.set(xlabel='Word', ylabel='Frequency', title='Frequency of the first ten words in bodies')\n",
    "plt.xticks(rotation=45)\n",
    "\n",
    "plt.show()"
   ]
  },
  {
   "cell_type": "markdown",
   "metadata": {},
   "source": [
    "### How stars are subdivided?"
   ]
  },
  {
   "cell_type": "code",
   "execution_count": 36,
   "metadata": {},
   "outputs": [
    {
     "data": {
      "image/png": "[encoded data removed]",
      "text/plain": [
       "<Figure size 640x480 with 1 Axes>"
      ]
     },
     "metadata": {},
     "output_type": "display_data"
    }
   ],
   "source": [
    "stars = df['Stars'].value_counts()\n",
    "colors = ['gold', 'yellowgreen', 'lightcoral']\n",
    "\n",
    "fig, ax = plt.subplots()\n",
    "ax.pie(stars.iloc[:], labels=list(stars.index), colors=colors, autopct='%1.1f%%', startangle=140)\n",
    "\n",
    "# Draw a white circle in the center to create a donut chart\n",
    "circle = plt.Circle((0, 0), 0.7, color='white')\n",
    "ax.add_artist(circle)\n",
    "\n",
    "# Equal aspect ratio ensures that the pie chart is circular\n",
    "ax.axis('equal')\n",
    "\n",
    "# Add a title\n",
    "plt.title('Stars Distribution')\n",
    "\n",
    "# Show the plot\n",
    "plt.show()"
   ]
  },
  {
   "cell_type": "code",
   "execution_count": 63,
   "metadata": {},
   "outputs": [],
   "source": [
    "df['Body'].fillna('', inplace=True)"
   ]
  },
  {
   "cell_type": "code",
   "execution_count": 64,
   "metadata": {},
   "outputs": [],
   "source": [
    "df['Full Review'] = df.apply(lambda row: (row['Title'] + ' ' + row['Body']), axis=1) # joining titles and bodies in orderto get a full text "
   ]
  },
  {
   "cell_type": "markdown",
   "metadata": {},
   "source": [
    "### Lemmatization"
   ]
  },
  {
   "cell_type": "code",
   "execution_count": 79,
   "metadata": {},
   "outputs": [],
   "source": [
    "lemm = WordNetLemmatizer()"
   ]
  },
  {
   "cell_type": "code",
   "execution_count": 96,
   "metadata": {},
   "outputs": [],
   "source": [
    "words = [nltk.word_tokenize(element, language='italian') for element in df['Full Review']]"
   ]
  },
  {
   "cell_type": "code",
   "execution_count": 97,
   "metadata": {},
   "outputs": [],
   "source": [
    "lemmmatized_words = [lemm.lemmatize(word) for sublist in words for word in sublist]"
   ]
  },
  {
   "cell_type": "code",
   "execution_count": 98,
   "metadata": {},
   "outputs": [
    {
     "ename": "ValueError",
     "evalue": "Length of values (15628) does not match length of index (510)",
     "output_type": "error",
     "traceback": [
      "\u001b[0;31m---------------------------------------------------------------------------\u001b[0m",
      "\u001b[0;31mValueError\u001b[0m                                Traceback (most recent call last)",
      "\u001b[1;32m/Users/riccardo/Documents/GitHub/Sentiment-Analysis_Amazon/sentiment_analysis.ipynb Cell 23\u001b[0m line \u001b[0;36m1\n\u001b[0;32m----> <a href='vscode-notebook-cell:/Users/riccardo/Documents/GitHub/Sentiment-Analysis_Amazon/sentiment_analysis.ipynb#Y113sZmlsZQ%3D%3D?line=0'>1</a>\u001b[0m df[\u001b[39m'\u001b[39m\u001b[39mLemmatized Full Review\u001b[39m\u001b[39m'\u001b[39m] \u001b[39m=\u001b[39m lemmmatized_words\n",
      "File \u001b[0;32m~/opt/anaconda3/envs/python_3112/lib/python3.11/site-packages/pandas/core/frame.py:3950\u001b[0m, in \u001b[0;36mDataFrame.__setitem__\u001b[0;34m(self, key, value)\u001b[0m\n\u001b[1;32m   3947\u001b[0m     \u001b[39mself\u001b[39m\u001b[39m.\u001b[39m_setitem_array([key], value)\n\u001b[1;32m   3948\u001b[0m \u001b[39melse\u001b[39;00m:\n\u001b[1;32m   3949\u001b[0m     \u001b[39m# set column\u001b[39;00m\n\u001b[0;32m-> 3950\u001b[0m     \u001b[39mself\u001b[39m\u001b[39m.\u001b[39m_set_item(key, value)\n",
      "File \u001b[0;32m~/opt/anaconda3/envs/python_3112/lib/python3.11/site-packages/pandas/core/frame.py:4143\u001b[0m, in \u001b[0;36mDataFrame._set_item\u001b[0;34m(self, key, value)\u001b[0m\n\u001b[1;32m   4133\u001b[0m \u001b[39mdef\u001b[39;00m \u001b[39m_set_item\u001b[39m(\u001b[39mself\u001b[39m, key, value) \u001b[39m-\u001b[39m\u001b[39m>\u001b[39m \u001b[39mNone\u001b[39;00m:\n\u001b[1;32m   4134\u001b[0m \u001b[39m    \u001b[39m\u001b[39m\"\"\"\u001b[39;00m\n\u001b[1;32m   4135\u001b[0m \u001b[39m    Add series to DataFrame in specified column.\u001b[39;00m\n\u001b[1;32m   4136\u001b[0m \n\u001b[0;32m   (...)\u001b[0m\n\u001b[1;32m   4141\u001b[0m \u001b[39m    ensure homogeneity.\u001b[39;00m\n\u001b[1;32m   4142\u001b[0m \u001b[39m    \"\"\"\u001b[39;00m\n\u001b[0;32m-> 4143\u001b[0m     value \u001b[39m=\u001b[39m \u001b[39mself\u001b[39m\u001b[39m.\u001b[39m_sanitize_column(value)\n\u001b[1;32m   4145\u001b[0m     \u001b[39mif\u001b[39;00m (\n\u001b[1;32m   4146\u001b[0m         key \u001b[39min\u001b[39;00m \u001b[39mself\u001b[39m\u001b[39m.\u001b[39mcolumns\n\u001b[1;32m   4147\u001b[0m         \u001b[39mand\u001b[39;00m value\u001b[39m.\u001b[39mndim \u001b[39m==\u001b[39m \u001b[39m1\u001b[39m\n\u001b[1;32m   4148\u001b[0m         \u001b[39mand\u001b[39;00m \u001b[39mnot\u001b[39;00m is_extension_array_dtype(value)\n\u001b[1;32m   4149\u001b[0m     ):\n\u001b[1;32m   4150\u001b[0m         \u001b[39m# broadcast across multiple columns if necessary\u001b[39;00m\n\u001b[1;32m   4151\u001b[0m         \u001b[39mif\u001b[39;00m \u001b[39mnot\u001b[39;00m \u001b[39mself\u001b[39m\u001b[39m.\u001b[39mcolumns\u001b[39m.\u001b[39mis_unique \u001b[39mor\u001b[39;00m \u001b[39misinstance\u001b[39m(\u001b[39mself\u001b[39m\u001b[39m.\u001b[39mcolumns, MultiIndex):\n",
      "File \u001b[0;32m~/opt/anaconda3/envs/python_3112/lib/python3.11/site-packages/pandas/core/frame.py:4870\u001b[0m, in \u001b[0;36mDataFrame._sanitize_column\u001b[0;34m(self, value)\u001b[0m\n\u001b[1;32m   4867\u001b[0m     \u001b[39mreturn\u001b[39;00m _reindex_for_setitem(Series(value), \u001b[39mself\u001b[39m\u001b[39m.\u001b[39mindex)\n\u001b[1;32m   4869\u001b[0m \u001b[39mif\u001b[39;00m is_list_like(value):\n\u001b[0;32m-> 4870\u001b[0m     com\u001b[39m.\u001b[39mrequire_length_match(value, \u001b[39mself\u001b[39m\u001b[39m.\u001b[39mindex)\n\u001b[1;32m   4871\u001b[0m \u001b[39mreturn\u001b[39;00m sanitize_array(value, \u001b[39mself\u001b[39m\u001b[39m.\u001b[39mindex, copy\u001b[39m=\u001b[39m\u001b[39mTrue\u001b[39;00m, allow_2d\u001b[39m=\u001b[39m\u001b[39mTrue\u001b[39;00m)\n",
      "File \u001b[0;32m~/opt/anaconda3/envs/python_3112/lib/python3.11/site-packages/pandas/core/common.py:576\u001b[0m, in \u001b[0;36mrequire_length_match\u001b[0;34m(data, index)\u001b[0m\n\u001b[1;32m    572\u001b[0m \u001b[39m\u001b[39m\u001b[39m\"\"\"\u001b[39;00m\n\u001b[1;32m    573\u001b[0m \u001b[39mCheck the length of data matches the length of the index.\u001b[39;00m\n\u001b[1;32m    574\u001b[0m \u001b[39m\"\"\"\u001b[39;00m\n\u001b[1;32m    575\u001b[0m \u001b[39mif\u001b[39;00m \u001b[39mlen\u001b[39m(data) \u001b[39m!=\u001b[39m \u001b[39mlen\u001b[39m(index):\n\u001b[0;32m--> 576\u001b[0m     \u001b[39mraise\u001b[39;00m \u001b[39mValueError\u001b[39;00m(\n\u001b[1;32m    577\u001b[0m         \u001b[39m\"\u001b[39m\u001b[39mLength of values \u001b[39m\u001b[39m\"\u001b[39m\n\u001b[1;32m    578\u001b[0m         \u001b[39mf\u001b[39m\u001b[39m\"\u001b[39m\u001b[39m(\u001b[39m\u001b[39m{\u001b[39;00m\u001b[39mlen\u001b[39m(data)\u001b[39m}\u001b[39;00m\u001b[39m) \u001b[39m\u001b[39m\"\u001b[39m\n\u001b[1;32m    579\u001b[0m         \u001b[39m\"\u001b[39m\u001b[39mdoes not match length of index \u001b[39m\u001b[39m\"\u001b[39m\n\u001b[1;32m    580\u001b[0m         \u001b[39mf\u001b[39m\u001b[39m\"\u001b[39m\u001b[39m(\u001b[39m\u001b[39m{\u001b[39;00m\u001b[39mlen\u001b[39m(index)\u001b[39m}\u001b[39;00m\u001b[39m)\u001b[39m\u001b[39m\"\u001b[39m\n\u001b[1;32m    581\u001b[0m     )\n",
      "\u001b[0;31mValueError\u001b[0m: Length of values (15628) does not match length of index (510)"
     ]
    }
   ],
   "source": [
    "df['Lemmatized Full Review'] = lemmmatized_words"
   ]
  },
  {
   "cell_type": "code",
   "execution_count": 95,
   "metadata": {},
   "outputs": [
    {
     "data": {
      "text/plain": [
       "0      ne puoi fare a meno fin quando non lo provi sp...\n",
       "1      ne puoi fare a meno fin quando non lo provi sp...\n",
       "2      ne puoi fare a meno fin quando non lo provi sp...\n",
       "3      ne puoi fare a meno fin quando non lo provi sp...\n",
       "4      ne puoi fare a meno fin quando non lo provi sp...\n",
       "                             ...                        \n",
       "505    ne puoi fare a meno fin quando non lo provi sp...\n",
       "506    ne puoi fare a meno fin quando non lo provi sp...\n",
       "507    ne puoi fare a meno fin quando non lo provi sp...\n",
       "508    ne puoi fare a meno fin quando non lo provi sp...\n",
       "509    ne puoi fare a meno fin quando non lo provi sp...\n",
       "Name: Lemmatized Full Review, Length: 510, dtype: object"
      ]
     },
     "execution_count": 95,
     "metadata": {},
     "output_type": "execute_result"
    }
   ],
   "source": [
    "df['Lemmatized Full Review']"
   ]
  },
  {
   "attachments": {},
   "cell_type": "markdown",
   "metadata": {},
   "source": [
    "### Review classification\n",
    "\n",
    "Here I calculate the polarity of every review. \n",
    "\n",
    "To do that I used the function polarity_scores() that returns me a dictionary composed of the negative, neutral, positive and compound polarity of the text I gaver as input."
   ]
  },
  {
   "cell_type": "code",
   "execution_count": 71,
   "metadata": {},
   "outputs": [],
   "source": [
    "sia = SentimentIntensityAnalyzer()\n",
    "text_polarity = [sia.polarity_scores(str(element)) for element in df['Full Review']]"
   ]
  },
  {
   "attachments": {},
   "cell_type": "markdown",
   "metadata": {},
   "source": [
    "Here I choose the polarity through the compound value, since it is the most consistent. When the compund value is 0.0 it means that the text is fully neutral, so I give as score 0.5"
   ]
  },
  {
   "cell_type": "code",
   "execution_count": 72,
   "metadata": {},
   "outputs": [],
   "source": [
    "text_pol_mean = []\n",
    "\n",
    "for i in range(len(text_polarity)):\n",
    "    if text_polarity[i]['compound'] == 0.0:\n",
    "        text_pol_mean.append(0.5)\n",
    "    else:\n",
    "        text_pol_mean.append(text_polarity[i]['compound'])"
   ]
  },
  {
   "cell_type": "code",
   "execution_count": 70,
   "metadata": {},
   "outputs": [],
   "source": [
    "df['Polarity Full'] = text_pol_mean"
   ]
  },
  {
   "attachments": {},
   "cell_type": "markdown",
   "metadata": {},
   "source": [
    "I assigned a keyword to every review according to the value of the polarity"
   ]
  },
  {
   "cell_type": "code",
   "execution_count": 73,
   "metadata": {},
   "outputs": [],
   "source": [
    "list_polarity = []\n",
    "for i in range(len(df)):\n",
    "    if df['Polarity Full'][i] < 0:\n",
    "        list_polarity.append('Bad')\n",
    "    elif df['Polarity Full'][i] <= 0.15:\n",
    "        list_polarity.append('Neutral')\n",
    "    else:\n",
    "        list_polarity.append('Good')\n",
    "\n",
    "df['Polarity_Text'] = list_polarity"
   ]
  },
  {
   "cell_type": "code",
   "execution_count": 74,
   "metadata": {},
   "outputs": [
    {
     "data": {
      "text/plain": [
       "Polarity_Text\n",
       "Good       428\n",
       "Bad         71\n",
       "Neutral     11\n",
       "Name: count, dtype: int64"
      ]
     },
     "execution_count": 74,
     "metadata": {},
     "output_type": "execute_result"
    }
   ],
   "source": [
    "df['Polarity_Text'].value_counts()"
   ]
  },
  {
   "cell_type": "code",
   "execution_count": 75,
   "metadata": {},
   "outputs": [
    {
     "data": {
      "text/plain": [
       "Title             object\n",
       "Body              object\n",
       "Stars              int64\n",
       "Polarity         float64\n",
       "Polarity_Text     object\n",
       "Full Review       object\n",
       "Polarity Full    float64\n",
       "dtype: object"
      ]
     },
     "execution_count": 75,
     "metadata": {},
     "output_type": "execute_result"
    }
   ],
   "source": [
    "df.dtypes"
   ]
  },
  {
   "attachments": {},
   "cell_type": "markdown",
   "metadata": {},
   "source": [
    "Here I joined the titles and the bodies to get a full review since I used both to calculate the polarity and also because for further processing I will need the full text"
   ]
  },
  {
   "cell_type": "code",
   "execution_count": 76,
   "metadata": {},
   "outputs": [
    {
     "data": {
      "text/html": [
       "<div>\n",
       "<style scoped>\n",
       "    .dataframe tbody tr th:only-of-type {\n",
       "        vertical-align: middle;\n",
       "    }\n",
       "\n",
       "    .dataframe tbody tr th {\n",
       "        vertical-align: top;\n",
       "    }\n",
       "\n",
       "    .dataframe thead th {\n",
       "        text-align: right;\n",
       "    }\n",
       "</style>\n",
       "<table border=\"1\" class=\"dataframe\">\n",
       "  <thead>\n",
       "    <tr style=\"text-align: right;\">\n",
       "      <th></th>\n",
       "      <th>Title</th>\n",
       "      <th>Body</th>\n",
       "      <th>Stars</th>\n",
       "      <th>Polarity</th>\n",
       "      <th>Polarity_Text</th>\n",
       "      <th>Full Review</th>\n",
       "      <th>Polarity Full</th>\n",
       "    </tr>\n",
       "  </thead>\n",
       "  <tbody>\n",
       "    <tr>\n",
       "      <th>376</th>\n",
       "      <td>comoda</td>\n",
       "      <td>facile da usare</td>\n",
       "      <td>5</td>\n",
       "      <td>0.250</td>\n",
       "      <td>Good</td>\n",
       "      <td>comoda facile da usare</td>\n",
       "      <td>0.500</td>\n",
       "    </tr>\n",
       "    <tr>\n",
       "      <th>369</th>\n",
       "      <td>musica di qualità con prezzo irrisorio</td>\n",
       "      <td>prodotto eccellente per dimensioni e sound</td>\n",
       "      <td>5</td>\n",
       "      <td>0.250</td>\n",
       "      <td>Good</td>\n",
       "      <td>musica di qualità con prezzo irrisorio prodott...</td>\n",
       "      <td>0.500</td>\n",
       "    </tr>\n",
       "    <tr>\n",
       "      <th>156</th>\n",
       "      <td>miglioramenti solamente nel design</td>\n",
       "      <td>rispetto al modello precedente di eco dot  que...</td>\n",
       "      <td>5</td>\n",
       "      <td>0.250</td>\n",
       "      <td>Good</td>\n",
       "      <td>miglioramenti solamente nel design rispetto al...</td>\n",
       "      <td>0.500</td>\n",
       "    </tr>\n",
       "    <tr>\n",
       "      <th>249</th>\n",
       "      <td>soddisfatto  buon prodotto</td>\n",
       "      <td>prodotto che oramai si recensisce da solo  ess...</td>\n",
       "      <td>4</td>\n",
       "      <td>0.250</td>\n",
       "      <td>Good</td>\n",
       "      <td>soddisfatto  buon prodotto  prodotto che orama...</td>\n",
       "      <td>0.500</td>\n",
       "    </tr>\n",
       "    <tr>\n",
       "      <th>19</th>\n",
       "      <td>ottimo affare</td>\n",
       "      <td>acquistato in sconto insieme a ring intercom  ...</td>\n",
       "      <td>5</td>\n",
       "      <td>0.186</td>\n",
       "      <td>Good</td>\n",
       "      <td>ottimo affare acquistato in sconto insieme a r...</td>\n",
       "      <td>0.340</td>\n",
       "    </tr>\n",
       "    <tr>\n",
       "      <th>246</th>\n",
       "      <td>un buon prodotto per la sua fascia di prezzo</td>\n",
       "      <td>la qualità dell audio non è male ma si potrebb...</td>\n",
       "      <td>4</td>\n",
       "      <td>0.186</td>\n",
       "      <td>Good</td>\n",
       "      <td>un buon prodotto per la sua fascia di prezzo l...</td>\n",
       "      <td>0.340</td>\n",
       "    </tr>\n",
       "    <tr>\n",
       "      <th>93</th>\n",
       "      <td>ottimo</td>\n",
       "      <td>ottimo</td>\n",
       "      <td>5</td>\n",
       "      <td>0.250</td>\n",
       "      <td>Good</td>\n",
       "      <td>ottimo ottimo</td>\n",
       "      <td>0.500</td>\n",
       "    </tr>\n",
       "    <tr>\n",
       "      <th>6</th>\n",
       "      <td>mi ha conquistato</td>\n",
       "      <td>l ho acquistato così  un po  per curiosità  ma...</td>\n",
       "      <td>5</td>\n",
       "      <td>-0.189</td>\n",
       "      <td>Bad</td>\n",
       "      <td>mi ha conquistato  l ho acquistato così  un po...</td>\n",
       "      <td>-0.296</td>\n",
       "    </tr>\n",
       "    <tr>\n",
       "      <th>341</th>\n",
       "      <td>buono</td>\n",
       "      <td>mi sembrava più grosso dalla foto  del resto f...</td>\n",
       "      <td>4</td>\n",
       "      <td>0.250</td>\n",
       "      <td>Good</td>\n",
       "      <td>buono mi sembrava più grosso dalla foto  del r...</td>\n",
       "      <td>0.500</td>\n",
       "    </tr>\n",
       "    <tr>\n",
       "      <th>472</th>\n",
       "      <td>una sicurezza</td>\n",
       "      <td>possiedo già altri   echo dot    generazione  ...</td>\n",
       "      <td>5</td>\n",
       "      <td>0.250</td>\n",
       "      <td>Good</td>\n",
       "      <td>una sicurezza possiedo già altri   echo dot   ...</td>\n",
       "      <td>0.500</td>\n",
       "    </tr>\n",
       "  </tbody>\n",
       "</table>\n",
       "</div>"
      ],
      "text/plain": [
       "                                            Title  \\\n",
       "376                                        comoda   \n",
       "369        musica di qualità con prezzo irrisorio   \n",
       "156            miglioramenti solamente nel design   \n",
       "249                   soddisfatto  buon prodotto    \n",
       "19                                  ottimo affare   \n",
       "246  un buon prodotto per la sua fascia di prezzo   \n",
       "93                                         ottimo   \n",
       "6                              mi ha conquistato    \n",
       "341                                         buono   \n",
       "472                                 una sicurezza   \n",
       "\n",
       "                                                  Body  Stars  Polarity  \\\n",
       "376                                   facile da usare       5     0.250   \n",
       "369         prodotto eccellente per dimensioni e sound      5     0.250   \n",
       "156  rispetto al modello precedente di eco dot  que...      5     0.250   \n",
       "249  prodotto che oramai si recensisce da solo  ess...      4     0.250   \n",
       "19   acquistato in sconto insieme a ring intercom  ...      5     0.186   \n",
       "246  la qualità dell audio non è male ma si potrebb...      4     0.186   \n",
       "93                                              ottimo      5     0.250   \n",
       "6    l ho acquistato così  un po  per curiosità  ma...      5    -0.189   \n",
       "341  mi sembrava più grosso dalla foto  del resto f...      4     0.250   \n",
       "472  possiedo già altri   echo dot    generazione  ...      5     0.250   \n",
       "\n",
       "    Polarity_Text                                        Full Review  \\\n",
       "376          Good                            comoda facile da usare    \n",
       "369          Good  musica di qualità con prezzo irrisorio prodott...   \n",
       "156          Good  miglioramenti solamente nel design rispetto al...   \n",
       "249          Good  soddisfatto  buon prodotto  prodotto che orama...   \n",
       "19           Good  ottimo affare acquistato in sconto insieme a r...   \n",
       "246          Good  un buon prodotto per la sua fascia di prezzo l...   \n",
       "93           Good                                      ottimo ottimo   \n",
       "6             Bad  mi ha conquistato  l ho acquistato così  un po...   \n",
       "341          Good  buono mi sembrava più grosso dalla foto  del r...   \n",
       "472          Good  una sicurezza possiedo già altri   echo dot   ...   \n",
       "\n",
       "     Polarity Full  \n",
       "376          0.500  \n",
       "369          0.500  \n",
       "156          0.500  \n",
       "249          0.500  \n",
       "19           0.340  \n",
       "246          0.340  \n",
       "93           0.500  \n",
       "6           -0.296  \n",
       "341          0.500  \n",
       "472          0.500  "
      ]
     },
     "execution_count": 76,
     "metadata": {},
     "output_type": "execute_result"
    }
   ],
   "source": [
    "df.sample(10)"
   ]
  },
  {
   "attachments": {},
   "cell_type": "markdown",
   "metadata": {},
   "source": [
    "## Dense Matrix to feed the models"
   ]
  },
  {
   "attachments": {},
   "cell_type": "markdown",
   "metadata": {},
   "source": [
    "Since the standard one with all the words could not be admissible since Machine Learning Models doesn't know how to interpret a certain word in order to classify a phrase, I needed to map every review according to the word it has in it.\n",
    "\n",
    "To do so there is a particular module of sklearn.feature_extraction.text, **TfidfVectorizer** that allows us to create a dense matrix in order to see for every word a level of beloging to every review.\n",
    "\n",
    "To calculate that level of belonging the module uses a formula:\n",
    "$$\n",
    "W_{x,y} = tf_{x,y} * \\log{\\frac{N}{df_x}}\n",
    "$$\n",
    "\n",
    "Where:\n",
    "1. $ W_{x,y} $ is word x within review y;\n",
    "2. $tf_{x,y}$ is the frequency of x in y;\n",
    "3. $df_x$ is the number of review containing x;\n",
    "4. $N$ is the total number of reviews"
   ]
  },
  {
   "cell_type": "code",
   "execution_count": 11,
   "metadata": {},
   "outputs": [],
   "source": [
    "vectorizer = TfidfVectorizer()\n",
    "vectors = vectorizer.fit_transform(df['Full Review'])\n",
    "feature_names = vectorizer.get_feature_names_out()\n",
    "matrix = vectors.todense()\n",
    "list_dense = matrix.tolist()\n",
    "sparse_matrix = pd.DataFrame(list_dense, columns=feature_names)"
   ]
  },
  {
   "attachments": {},
   "cell_type": "markdown",
   "metadata": {},
   "source": [
    "Doing that I can assign to every row of the matrix containing all the reviews the same value of polarity, since the order is still the same "
   ]
  },
  {
   "cell_type": "code",
   "execution_count": 12,
   "metadata": {},
   "outputs": [],
   "source": [
    "sparse_matrix['Polarity_Text'] = list_polarity"
   ]
  },
  {
   "cell_type": "code",
   "execution_count": 15,
   "metadata": {},
   "outputs": [
    {
     "data": {
      "text/html": [
       "<div>\n",
       "<style scoped>\n",
       "    .dataframe tbody tr th:only-of-type {\n",
       "        vertical-align: middle;\n",
       "    }\n",
       "\n",
       "    .dataframe tbody tr th {\n",
       "        vertical-align: top;\n",
       "    }\n",
       "\n",
       "    .dataframe thead th {\n",
       "        text-align: right;\n",
       "    }\n",
       "</style>\n",
       "<table border=\"1\" class=\"dataframe\">\n",
       "  <thead>\n",
       "    <tr style=\"text-align: right;\">\n",
       "      <th></th>\n",
       "      <th>abbassare</th>\n",
       "      <th>abbasso</th>\n",
       "      <th>abbastanza</th>\n",
       "      <th>abbia</th>\n",
       "      <th>abbiamo</th>\n",
       "      <th>abbiano</th>\n",
       "      <th>abbina</th>\n",
       "      <th>abbinabili</th>\n",
       "      <th>abbinamento</th>\n",
       "      <th>abbinandolo</th>\n",
       "      <th>...</th>\n",
       "      <th>vuole</th>\n",
       "      <th>web</th>\n",
       "      <th>wi</th>\n",
       "      <th>wifi</th>\n",
       "      <th>wireless</th>\n",
       "      <th>wow</th>\n",
       "      <th>xd</th>\n",
       "      <th>youtube</th>\n",
       "      <th>zio</th>\n",
       "      <th>Polarity_Text</th>\n",
       "    </tr>\n",
       "  </thead>\n",
       "  <tbody>\n",
       "    <tr>\n",
       "      <th>370</th>\n",
       "      <td>0.0</td>\n",
       "      <td>0.0</td>\n",
       "      <td>0.0</td>\n",
       "      <td>0.0</td>\n",
       "      <td>0.000000</td>\n",
       "      <td>0.000000</td>\n",
       "      <td>0.0</td>\n",
       "      <td>0.0</td>\n",
       "      <td>0.0</td>\n",
       "      <td>0.0</td>\n",
       "      <td>...</td>\n",
       "      <td>0.0</td>\n",
       "      <td>0.0</td>\n",
       "      <td>0.0</td>\n",
       "      <td>0.0</td>\n",
       "      <td>0.0</td>\n",
       "      <td>0.0</td>\n",
       "      <td>0.0</td>\n",
       "      <td>0.0</td>\n",
       "      <td>0.0</td>\n",
       "      <td>Good</td>\n",
       "    </tr>\n",
       "    <tr>\n",
       "      <th>71</th>\n",
       "      <td>0.0</td>\n",
       "      <td>0.0</td>\n",
       "      <td>0.0</td>\n",
       "      <td>0.0</td>\n",
       "      <td>0.000000</td>\n",
       "      <td>0.000000</td>\n",
       "      <td>0.0</td>\n",
       "      <td>0.0</td>\n",
       "      <td>0.0</td>\n",
       "      <td>0.0</td>\n",
       "      <td>...</td>\n",
       "      <td>0.0</td>\n",
       "      <td>0.0</td>\n",
       "      <td>0.0</td>\n",
       "      <td>0.0</td>\n",
       "      <td>0.0</td>\n",
       "      <td>0.0</td>\n",
       "      <td>0.0</td>\n",
       "      <td>0.0</td>\n",
       "      <td>0.0</td>\n",
       "      <td>Good</td>\n",
       "    </tr>\n",
       "    <tr>\n",
       "      <th>147</th>\n",
       "      <td>0.0</td>\n",
       "      <td>0.0</td>\n",
       "      <td>0.0</td>\n",
       "      <td>0.0</td>\n",
       "      <td>0.000000</td>\n",
       "      <td>0.000000</td>\n",
       "      <td>0.0</td>\n",
       "      <td>0.0</td>\n",
       "      <td>0.0</td>\n",
       "      <td>0.0</td>\n",
       "      <td>...</td>\n",
       "      <td>0.0</td>\n",
       "      <td>0.0</td>\n",
       "      <td>0.0</td>\n",
       "      <td>0.0</td>\n",
       "      <td>0.0</td>\n",
       "      <td>0.0</td>\n",
       "      <td>0.0</td>\n",
       "      <td>0.0</td>\n",
       "      <td>0.0</td>\n",
       "      <td>Bad</td>\n",
       "    </tr>\n",
       "    <tr>\n",
       "      <th>17</th>\n",
       "      <td>0.0</td>\n",
       "      <td>0.0</td>\n",
       "      <td>0.0</td>\n",
       "      <td>0.0</td>\n",
       "      <td>0.000000</td>\n",
       "      <td>0.000000</td>\n",
       "      <td>0.0</td>\n",
       "      <td>0.0</td>\n",
       "      <td>0.0</td>\n",
       "      <td>0.0</td>\n",
       "      <td>...</td>\n",
       "      <td>0.0</td>\n",
       "      <td>0.0</td>\n",
       "      <td>0.0</td>\n",
       "      <td>0.0</td>\n",
       "      <td>0.0</td>\n",
       "      <td>0.0</td>\n",
       "      <td>0.0</td>\n",
       "      <td>0.0</td>\n",
       "      <td>0.0</td>\n",
       "      <td>Good</td>\n",
       "    </tr>\n",
       "    <tr>\n",
       "      <th>387</th>\n",
       "      <td>0.0</td>\n",
       "      <td>0.0</td>\n",
       "      <td>0.0</td>\n",
       "      <td>0.0</td>\n",
       "      <td>0.000000</td>\n",
       "      <td>0.000000</td>\n",
       "      <td>0.0</td>\n",
       "      <td>0.0</td>\n",
       "      <td>0.0</td>\n",
       "      <td>0.0</td>\n",
       "      <td>...</td>\n",
       "      <td>0.0</td>\n",
       "      <td>0.0</td>\n",
       "      <td>0.0</td>\n",
       "      <td>0.0</td>\n",
       "      <td>0.0</td>\n",
       "      <td>0.0</td>\n",
       "      <td>0.0</td>\n",
       "      <td>0.0</td>\n",
       "      <td>0.0</td>\n",
       "      <td>Good</td>\n",
       "    </tr>\n",
       "    <tr>\n",
       "      <th>126</th>\n",
       "      <td>0.0</td>\n",
       "      <td>0.0</td>\n",
       "      <td>0.0</td>\n",
       "      <td>0.0</td>\n",
       "      <td>0.000000</td>\n",
       "      <td>0.000000</td>\n",
       "      <td>0.0</td>\n",
       "      <td>0.0</td>\n",
       "      <td>0.0</td>\n",
       "      <td>0.0</td>\n",
       "      <td>...</td>\n",
       "      <td>0.0</td>\n",
       "      <td>0.0</td>\n",
       "      <td>0.0</td>\n",
       "      <td>0.0</td>\n",
       "      <td>0.0</td>\n",
       "      <td>0.0</td>\n",
       "      <td>0.0</td>\n",
       "      <td>0.0</td>\n",
       "      <td>0.0</td>\n",
       "      <td>Good</td>\n",
       "    </tr>\n",
       "    <tr>\n",
       "      <th>502</th>\n",
       "      <td>0.0</td>\n",
       "      <td>0.0</td>\n",
       "      <td>0.0</td>\n",
       "      <td>0.0</td>\n",
       "      <td>0.000000</td>\n",
       "      <td>0.000000</td>\n",
       "      <td>0.0</td>\n",
       "      <td>0.0</td>\n",
       "      <td>0.0</td>\n",
       "      <td>0.0</td>\n",
       "      <td>...</td>\n",
       "      <td>0.0</td>\n",
       "      <td>0.0</td>\n",
       "      <td>0.0</td>\n",
       "      <td>0.0</td>\n",
       "      <td>0.0</td>\n",
       "      <td>0.0</td>\n",
       "      <td>0.0</td>\n",
       "      <td>0.0</td>\n",
       "      <td>0.0</td>\n",
       "      <td>Good</td>\n",
       "    </tr>\n",
       "    <tr>\n",
       "      <th>85</th>\n",
       "      <td>0.0</td>\n",
       "      <td>0.0</td>\n",
       "      <td>0.0</td>\n",
       "      <td>0.0</td>\n",
       "      <td>0.000000</td>\n",
       "      <td>0.000000</td>\n",
       "      <td>0.0</td>\n",
       "      <td>0.0</td>\n",
       "      <td>0.0</td>\n",
       "      <td>0.0</td>\n",
       "      <td>...</td>\n",
       "      <td>0.0</td>\n",
       "      <td>0.0</td>\n",
       "      <td>0.0</td>\n",
       "      <td>0.0</td>\n",
       "      <td>0.0</td>\n",
       "      <td>0.0</td>\n",
       "      <td>0.0</td>\n",
       "      <td>0.0</td>\n",
       "      <td>0.0</td>\n",
       "      <td>Good</td>\n",
       "    </tr>\n",
       "    <tr>\n",
       "      <th>382</th>\n",
       "      <td>0.0</td>\n",
       "      <td>0.0</td>\n",
       "      <td>0.0</td>\n",
       "      <td>0.0</td>\n",
       "      <td>0.134127</td>\n",
       "      <td>0.119918</td>\n",
       "      <td>0.0</td>\n",
       "      <td>0.0</td>\n",
       "      <td>0.0</td>\n",
       "      <td>0.0</td>\n",
       "      <td>...</td>\n",
       "      <td>0.0</td>\n",
       "      <td>0.0</td>\n",
       "      <td>0.0</td>\n",
       "      <td>0.0</td>\n",
       "      <td>0.0</td>\n",
       "      <td>0.0</td>\n",
       "      <td>0.0</td>\n",
       "      <td>0.0</td>\n",
       "      <td>0.0</td>\n",
       "      <td>Neutral</td>\n",
       "    </tr>\n",
       "    <tr>\n",
       "      <th>181</th>\n",
       "      <td>0.0</td>\n",
       "      <td>0.0</td>\n",
       "      <td>0.0</td>\n",
       "      <td>0.0</td>\n",
       "      <td>0.000000</td>\n",
       "      <td>0.000000</td>\n",
       "      <td>0.0</td>\n",
       "      <td>0.0</td>\n",
       "      <td>0.0</td>\n",
       "      <td>0.0</td>\n",
       "      <td>...</td>\n",
       "      <td>0.0</td>\n",
       "      <td>0.0</td>\n",
       "      <td>0.0</td>\n",
       "      <td>0.0</td>\n",
       "      <td>0.0</td>\n",
       "      <td>0.0</td>\n",
       "      <td>0.0</td>\n",
       "      <td>0.0</td>\n",
       "      <td>0.0</td>\n",
       "      <td>Good</td>\n",
       "    </tr>\n",
       "  </tbody>\n",
       "</table>\n",
       "<p>10 rows × 2603 columns</p>\n",
       "</div>"
      ],
      "text/plain": [
       "     abbassare  abbasso  abbastanza  abbia   abbiamo   abbiano  abbina  \\\n",
       "370        0.0      0.0         0.0    0.0  0.000000  0.000000     0.0   \n",
       "71         0.0      0.0         0.0    0.0  0.000000  0.000000     0.0   \n",
       "147        0.0      0.0         0.0    0.0  0.000000  0.000000     0.0   \n",
       "17         0.0      0.0         0.0    0.0  0.000000  0.000000     0.0   \n",
       "387        0.0      0.0         0.0    0.0  0.000000  0.000000     0.0   \n",
       "126        0.0      0.0         0.0    0.0  0.000000  0.000000     0.0   \n",
       "502        0.0      0.0         0.0    0.0  0.000000  0.000000     0.0   \n",
       "85         0.0      0.0         0.0    0.0  0.000000  0.000000     0.0   \n",
       "382        0.0      0.0         0.0    0.0  0.134127  0.119918     0.0   \n",
       "181        0.0      0.0         0.0    0.0  0.000000  0.000000     0.0   \n",
       "\n",
       "     abbinabili  abbinamento  abbinandolo  ...  vuole  web   wi  wifi  \\\n",
       "370         0.0          0.0          0.0  ...    0.0  0.0  0.0   0.0   \n",
       "71          0.0          0.0          0.0  ...    0.0  0.0  0.0   0.0   \n",
       "147         0.0          0.0          0.0  ...    0.0  0.0  0.0   0.0   \n",
       "17          0.0          0.0          0.0  ...    0.0  0.0  0.0   0.0   \n",
       "387         0.0          0.0          0.0  ...    0.0  0.0  0.0   0.0   \n",
       "126         0.0          0.0          0.0  ...    0.0  0.0  0.0   0.0   \n",
       "502         0.0          0.0          0.0  ...    0.0  0.0  0.0   0.0   \n",
       "85          0.0          0.0          0.0  ...    0.0  0.0  0.0   0.0   \n",
       "382         0.0          0.0          0.0  ...    0.0  0.0  0.0   0.0   \n",
       "181         0.0          0.0          0.0  ...    0.0  0.0  0.0   0.0   \n",
       "\n",
       "     wireless  wow   xd  youtube  zio  Polarity_Text  \n",
       "370       0.0  0.0  0.0      0.0  0.0           Good  \n",
       "71        0.0  0.0  0.0      0.0  0.0           Good  \n",
       "147       0.0  0.0  0.0      0.0  0.0            Bad  \n",
       "17        0.0  0.0  0.0      0.0  0.0           Good  \n",
       "387       0.0  0.0  0.0      0.0  0.0           Good  \n",
       "126       0.0  0.0  0.0      0.0  0.0           Good  \n",
       "502       0.0  0.0  0.0      0.0  0.0           Good  \n",
       "85        0.0  0.0  0.0      0.0  0.0           Good  \n",
       "382       0.0  0.0  0.0      0.0  0.0        Neutral  \n",
       "181       0.0  0.0  0.0      0.0  0.0           Good  \n",
       "\n",
       "[10 rows x 2603 columns]"
      ]
     },
     "execution_count": 15,
     "metadata": {},
     "output_type": "execute_result"
    }
   ],
   "source": [
    "sparse_matrix.sample(10)"
   ]
  },
  {
   "attachments": {},
   "cell_type": "markdown",
   "metadata": {},
   "source": [
    "### Writing dataframe and sparse matrix into two files"
   ]
  },
  {
   "cell_type": "code",
   "execution_count": 24,
   "metadata": {},
   "outputs": [],
   "source": [
    "df.to_csv('data_final.csv', index=False)"
   ]
  },
  {
   "cell_type": "code",
   "execution_count": 25,
   "metadata": {},
   "outputs": [],
   "source": [
    "sparse_matrix.to_csv('matrix.csv', index=False)"
   ]
  }
 ],
 "metadata": {
  "kernelspec": {
   "display_name": "Python_last",
   "language": "python",
   "name": "python3"
  },
  "language_info": {
   "codemirror_mode": {
    "name": "ipython",
    "version": 3
   },
   "file_extension": ".py",
   "mimetype": "text/x-python",
   "name": "python",
   "nbconvert_exporter": "python",
   "pygments_lexer": "ipython3",
   "version": "3.11.5"
  },
  "orig_nbformat": 4
 },
 "nbformat": 4,
 "nbformat_minor": 2
}
