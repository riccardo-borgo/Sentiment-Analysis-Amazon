{
 "cells": [
  {
   "cell_type": "code",
   "execution_count": null,
   "metadata": {},
   "outputs": [],
   "source": [
    "import time\n",
    "from requests_html import HTMLSession\n",
    "from lxml import html\n",
    "from dotenv import load_dotenv\n",
    "import os"
   ]
  },
  {
   "cell_type": "code",
   "execution_count": null,
   "metadata": {},
   "outputs": [],
   "source": [
    "load_dotenv()\n",
    "USER_AGENT = os.getenv(\"USER_AGENT\")"
   ]
  },
  {
   "cell_type": "code",
   "execution_count": null,
   "metadata": {},
   "outputs": [],
   "source": [
    "class Scraper:\n",
    "    def __init__(self, asin) -> None:\n",
    "        self.session = HTMLSession()\n",
    "        self.asin = asin\n",
    "        self.url = f\"https://www.amazon.com/product-reviews/{self.asin}/ref=cm_cr_dp_d_show_all_btm?ie=UTF8&reviewerType=all_reviews&sortBy=recent&pageNumber=\"\n",
    "    \n",
    "    def check_page(self, i):\n",
    "        headers = {\"User-Agent\": USER_AGENT}\n",
    "        response = self.session.get(self.url + str(i), headers=headers)\n",
    "\n",
    "        if response.html.find('div[data-hook=review]'):\n",
    "            return response.html.find('div[data-hook=review]')\n",
    "        else:\n",
    "            return False\n",
    "\n",
    "    def scrape(self, reviews):\n",
    "        final = []\n",
    "\n",
    "        for review in reviews:\n",
    "            try:\n",
    "                title = review.find('div[data-hook=\"review\"] span[data-hook=\"review-title\"]', first = True).text.strip().replace('\\n', '')\n",
    "                rating = review.find('i[data-hook=review-star-rating] span', first = True).text.strip().replace('\\n', '').replace(' out of 5 stars', '')\n",
    "                body = review.find('div[data-hook=\"review\"] span[data-hook=\"review-body\"]', first = True).text.strip().replace('\\n', '')\n",
    "            except:\n",
    "                continue        \n",
    "\n",
    "            data = {'title': title,\n",
    "                    'rating': rating,\n",
    "                    'body': body}      \n",
    "            final.append(data)\n",
    "        return final"
   ]
  },
  {
   "cell_type": "code",
   "execution_count": null,
   "metadata": {},
   "outputs": [],
   "source": [
    "scraper = Scraper('B08D6VD9TR')\n",
    "\n",
    "results = []\n",
    "for i in range(1,51):          \n",
    "    print('Getting page', i)\n",
    "    time.sleep(0.3)             \n",
    "    reviews = scraper.check_page(i)\n",
    "    \n",
    "    if reviews:                    \n",
    "        results.append(scraper.scrape(reviews))\n",
    "    else:\n",
    "        print('No more reviews')\n"
   ]
  },
  {
   "cell_type": "code",
   "execution_count": null,
   "metadata": {},
   "outputs": [],
   "source": [
    "results"
   ]
  }
 ],
 "metadata": {
  "kernelspec": {
   "display_name": "python_3112",
   "language": "python",
   "name": "python3"
  },
  "language_info": {
   "codemirror_mode": {
    "name": "ipython",
    "version": 3
   },
   "file_extension": ".py",
   "mimetype": "text/x-python",
   "name": "python",
   "nbconvert_exporter": "python",
   "pygments_lexer": "ipython3",
   "version": "3.11.5"
  }
 },
 "nbformat": 4,
 "nbformat_minor": 2
}
