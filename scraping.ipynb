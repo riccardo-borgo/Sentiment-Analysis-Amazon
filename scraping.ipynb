{
 "cells": [
  {
   "attachments": {},
   "cell_type": "markdown",
   "metadata": {},
   "source": [
    "# Script that performs scraping from Amazon website of a specific product"
   ]
  },
  {
   "cell_type": "code",
   "execution_count": 4,
   "metadata": {},
   "outputs": [],
   "source": [
    "import pandas as pd\n",
    "from bs4 import BeautifulSoup\n",
    "import requests\n",
    "import re"
   ]
  },
  {
   "cell_type": "code",
   "execution_count": 5,
   "metadata": {},
   "outputs": [],
   "source": [
    "# Set display options\n",
    "pd.set_option('display.max_columns', None)  # Display all columns\n",
    "pd.set_option('display.max_rows', None)  # Display all rows\n",
    "pd.set_option('display.max_colwidth', None)  # Prevent wrapping of DataFrame"
   ]
  },
  {
   "cell_type": "code",
   "execution_count": 6,
   "metadata": {},
   "outputs": [],
   "source": [
    "review_title = []\n",
    "review_body = []\n",
    "review_stars = []\n",
    "i = 0"
   ]
  },
  {
   "cell_type": "code",
   "execution_count": 7,
   "metadata": {},
   "outputs": [],
   "source": [
    "URL = \"https://www.amazon.it/echo-dot-2022/product-reviews/B09B8X9RGM/ref=cm_cr_dp_d_show_all_btm?ie=UTF8&reviewerType=all_reviews\"\n",
    "\n",
    "headers = {\n",
    "        'authority': 'www.amazon.it',\n",
    "        'user-agent': 'Mozilla/5.0 (X11; CrOS x86_64 8172.45.0) AppleWebKit/537.36 (KHTML, like Gecko) Chrome/51.0.2704.64 Safari/537.36',\n",
    "        'accept': 'text/html,application/xhtml+xml,application/xml;q=0.9,image/webp,image/apng,*/*;q=0.8,application/signed-exchange;v=b3;q=0.9',\n",
    "        'accept-language': 'it-IT,it;en-GB,en-US;q=0.9,en;q=0.8',\n",
    "    }\n",
    "\n",
    "while i < 50:\n",
    "    webpage = requests.get(URL, headers=headers)\n",
    "    soup = BeautifulSoup(webpage.content, 'html.parser')\n",
    "    review_title.append(soup.select('a.review-title'))\n",
    "    review_body.append(soup.select('div.a-row.review-data span.review-text'))\n",
    "    review_stars.append(soup.select('div.a-row:nth-of-type(2) > a.a-link-normal:nth-of-type(1)'))\n",
    "    try:\n",
    "        next_url = soup.select_one('li.a-last a').get('href')\n",
    "        URL = f\"https://www.amazon.it{next_url}\"\n",
    "        i += 1\n",
    "    except Exception as e:\n",
    "        print(f'An error occured {e}')\n",
    "        "
   ]
  },
  {
   "cell_type": "code",
   "execution_count": 8,
   "metadata": {},
   "outputs": [],
   "source": [
    "review_title = [[element.text.replace('\\n', '') for element in sublist] for sublist in review_title]\n",
    "review_body = [[element.text.replace('\\n', '') for element in sublist] for sublist in review_body]\n",
    "review_stars = [[element.get('title').split()[0] for element in sublist] for sublist in review_stars] # getting only the number of stars the user put"
   ]
  },
  {
   "cell_type": "code",
   "execution_count": 9,
   "metadata": {},
   "outputs": [],
   "source": [
    "review_title = [[re.sub(\"[^a-zA-ZÀ-ÖØ-öø-ÿ]\", \" \", element) for element in sublist] for sublist in review_title]\n",
    "review_title = [[element.lower() for element in sublist] for sublist in review_title]"
   ]
  },
  {
   "cell_type": "code",
   "execution_count": 10,
   "metadata": {},
   "outputs": [],
   "source": [
    "review_body = [[re.sub(\"[^a-zA-ZÀ-ÖØ-öø-ÿ]\", \" \", element) for element in sublist] for sublist in review_body]\n",
    "review_body = [[element.lower() for element in sublist] for sublist in review_body]"
   ]
  },
  {
   "cell_type": "code",
   "execution_count": 11,
   "metadata": {},
   "outputs": [],
   "source": [
    "df = pd.DataFrame(columns = ['Title', 'Body', 'Stars'])"
   ]
  },
  {
   "cell_type": "code",
   "execution_count": 12,
   "metadata": {},
   "outputs": [],
   "source": [
    "df['Title'] = [item for sublist in review_title for item in sublist]\n",
    "df['Body'] = [item for sublist in review_body for item in sublist]\n",
    "df['Stars'] = [item for sublist in review_stars for item in sublist]"
   ]
  },
  {
   "cell_type": "code",
   "execution_count": 13,
   "metadata": {},
   "outputs": [],
   "source": [
    "df['Stars'] = [element.replace(',0', '') for element in df['Stars']]\n",
    "df['Stars'] = df['Stars'].astype(int)\n",
    "df['Title'] = df['Title'].astype(str)\n",
    "df['Body'] = df['Body'].astype(str)"
   ]
  },
  {
   "cell_type": "code",
   "execution_count": 14,
   "metadata": {},
   "outputs": [
    {
     "data": {
      "text/plain": [
       "Title    0\n",
       "Body     0\n",
       "Stars    0\n",
       "dtype: int64"
      ]
     },
     "execution_count": 14,
     "metadata": {},
     "output_type": "execute_result"
    }
   ],
   "source": [
    "df.isnull().sum()"
   ]
  },
  {
   "cell_type": "code",
   "execution_count": 15,
   "metadata": {},
   "outputs": [],
   "source": [
    "# writing the dataframe into a CSV file just to do not have to scape again in case I do something wrong\n",
    "df.to_csv('data.csv', index=False)"
   ]
  }
 ],
 "metadata": {
  "kernelspec": {
   "display_name": "Python_last",
   "language": "python",
   "name": "python3"
  },
  "language_info": {
   "codemirror_mode": {
    "name": "ipython",
    "version": 3
   },
   "file_extension": ".py",
   "mimetype": "text/x-python",
   "name": "python",
   "nbconvert_exporter": "python",
   "pygments_lexer": "ipython3",
   "version": "3.11.2"
  },
  "orig_nbformat": 4
 },
 "nbformat": 4,
 "nbformat_minor": 2
}
