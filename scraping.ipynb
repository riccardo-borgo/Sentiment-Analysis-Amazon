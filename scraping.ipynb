{
 "cells": [
  {
   "attachments": {},
   "cell_type": "markdown",
   "metadata": {},
   "source": [
    "# Script that performs scraping from Amazon website of a specific product\n",
    "\n",
    "Sentiment analysis on product reviews: Students will extract product reviews from an e-commerce site \n",
    "like Amazon, using web scraping. They will then process the reviews and use sentiment analysis techniques \n",
    "to classify opinions as positive, negative, or neutral."
   ]
  },
  {
   "attachments": {},
   "cell_type": "markdown",
   "metadata": {},
   "source": [
    "### Importing Libraries"
   ]
  },
  {
   "cell_type": "code",
   "execution_count": 6,
   "metadata": {},
   "outputs": [],
   "source": [
    "import pandas as pd\n",
    "from bs4 import BeautifulSoup\n",
    "import requests\n",
    "import re\n",
    "import time"
   ]
  },
  {
   "cell_type": "code",
   "execution_count": 7,
   "metadata": {},
   "outputs": [],
   "source": [
    "# Set display options\n",
    "pd.set_option('display.max_columns', None)  # Display all columns\n",
    "pd.set_option('display.max_rows', None)  # Display all rows\n",
    "pd.set_option('display.max_colwidth', None)  # Prevent DataFrame wrapping"
   ]
  },
  {
   "cell_type": "code",
   "execution_count": 26,
   "metadata": {},
   "outputs": [],
   "source": [
    "review_title = []\n",
    "review_body = []\n",
    "review_stars = []\n",
    "i = 1"
   ]
  },
  {
   "attachments": {},
   "cell_type": "markdown",
   "metadata": {},
   "source": [
    "### Scraping:\n",
    "The code underneath basically does all the scraping I need to construct the dataframe with the reviews. \n",
    "\n",
    "First of all I declared a variable **URL** that obviously contains the link to the product. Secondly I declared an **header** that is mandatory in order to access the webpage.\n",
    "\n",
    "After that I iterate the first 50 pages of reviews in order to obtain more a consistent result. Before the actual scraping I check for any possible error while requesting the page. \n",
    "\n",
    "After that I look for every css selector that include the title, the body and the star the person gave to the product. Through the css selector I can also find automatically the next page."
   ]
  },
  {
   "cell_type": "code",
   "execution_count": null,
   "metadata": {},
   "outputs": [],
   "source": [
    "URL = \"https://www.amazon.it/echo-dot-2022/product-reviews/B09B8X9RGM/ref=cm_cr_dp_d_show_all_btm?ie=UTF8&reviewerType=all_reviews\"\n",
    "\n",
    "headers = {\n",
    "        'authority': 'www.amazon.it',\n",
    "        'user-agent': 'Mozilla/5.0 (X11; CrOS x86_64 8172.45.0) AppleWebKit/537.36 (KHTML, like Gecko) Chrome/51.0.2704.64 Safari/537.36',\n",
    "        'accept': 'text/html,application/xhtml+xml,application/xml;q=0.9,image/webp,image/apng,*/*;q=0.8,application/signed-exchange;v=b3;q=0.9',\n",
    "        'accept-language': 'it-IT,it;en-GB,en-US;q=0.9,en;q=0.8',\n",
    "    }\n",
    "\n",
    "while i <= 50:\n",
    "    try:\n",
    "        webpage = requests.get(URL, headers=headers)\n",
    "        # Process the response if the request was successful\n",
    "        if webpage.status_code == 200:\n",
    "            # Starting the scraping\n",
    "            soup = BeautifulSoup(webpage.content, 'html.parser')\n",
    "            print(f'Scraping page {i}')\n",
    "            review_title.append(soup.select('a.review-title')) # css selector for the title of the review\n",
    "            review_body.append(soup.select('div.a-row.review-data span.review-text')) # css selector for the body of the review\n",
    "            review_stars.append(soup.select('div.a-row:nth-of-type(2) > a.a-link-normal:nth-of-type(1)')) # css selector for the stars of the review\n",
    "            try:\n",
    "                next_link = soup.select_one('li.a-last a')\n",
    "                if next_link is not None:\n",
    "                    next_url = next_link.get('href')\n",
    "                    URL = f\"https://www.amazon.it{next_url}\"\n",
    "            except Exception as e:\n",
    "                print(f'An error occured {e}')\n",
    "        else:\n",
    "            # Handle the response if it's not successful\n",
    "            print(f\"Request failed with status code: {webpage.status_code}\")\n",
    "    except requests.RequestException as e:\n",
    "        # Handle any exceptions that occur during the request\n",
    "        print(f\"An error occurred: {e}\")\n",
    "    i += 1\n",
    "    time.sleep(2)\n"
   ]
  },
  {
   "attachments": {},
   "cell_type": "markdown",
   "metadata": {},
   "source": [
    "### Text processing\n",
    "\n",
    "Here I make all the texts more flat, removing all the '\\n', keeping only letters inside the texts and ultimately making everything lowercase"
   ]
  },
  {
   "cell_type": "code",
   "execution_count": null,
   "metadata": {},
   "outputs": [],
   "source": [
    "review_title = [[element.text.replace('\\n', '') for element in sublist] for sublist in review_title]\n",
    "review_body = [[element.text.replace('\\n', '') for element in sublist] for sublist in review_body]\n",
    "review_stars = [[element.get('title').split()[0] for element in sublist] for sublist in review_stars] # getting only the number of stars the user put"
   ]
  },
  {
   "cell_type": "code",
   "execution_count": null,
   "metadata": {},
   "outputs": [],
   "source": [
    "review_title = [[re.sub(\"[^a-zA-ZÀ-ÖØ-öø-ÿ]\", \" \", element) for element in sublist] for sublist in review_title] # keeping only the letters from the titles\n",
    "review_title = [[element.lower() for element in sublist] for sublist in review_title]"
   ]
  },
  {
   "cell_type": "code",
   "execution_count": null,
   "metadata": {},
   "outputs": [],
   "source": [
    "review_body = [[re.sub(\"[^a-zA-ZÀ-ÖØ-öø-ÿ]\", \" \", element) for element in sublist] for sublist in review_body] # keeping only the letters from the bodies\n",
    "review_body = [[element.lower() for element in sublist] for sublist in review_body]"
   ]
  },
  {
   "cell_type": "code",
   "execution_count": null,
   "metadata": {},
   "outputs": [],
   "source": [
    "df = pd.DataFrame(columns = ['Title', 'Body', 'Stars'])"
   ]
  },
  {
   "cell_type": "code",
   "execution_count": null,
   "metadata": {},
   "outputs": [],
   "source": [
    "df['Title'] = [item for sublist in review_title for item in sublist]\n",
    "df['Body'] = [item for sublist in review_body for item in sublist]\n",
    "df['Stars'] = [item for sublist in review_stars for item in sublist]"
   ]
  },
  {
   "cell_type": "code",
   "execution_count": null,
   "metadata": {},
   "outputs": [],
   "source": [
    "df['Stars'] = [element.replace(',0', '') for element in df['Stars']] # keeping only the number of stars the person put since previously the column was like '4,0', '3,0' etc...\n",
    "df['Stars'] = df['Stars'].astype(int)\n",
    "df['Title'] = df['Title'].astype(str)\n",
    "df['Body'] = df['Body'].astype(str)"
   ]
  },
  {
   "attachments": {},
   "cell_type": "markdown",
   "metadata": {},
   "source": [
    "### NA's check and file writing"
   ]
  },
  {
   "cell_type": "code",
   "execution_count": null,
   "metadata": {},
   "outputs": [
    {
     "data": {
      "text/plain": [
       "Title    0\n",
       "Body     0\n",
       "Stars    0\n",
       "dtype: int64"
      ]
     },
     "execution_count": 13,
     "metadata": {},
     "output_type": "execute_result"
    }
   ],
   "source": [
    "df.isnull().sum()"
   ]
  },
  {
   "cell_type": "code",
   "execution_count": null,
   "metadata": {},
   "outputs": [
    {
     "data": {
      "text/html": [
       "<div>\n",
       "<style scoped>\n",
       "    .dataframe tbody tr th:only-of-type {\n",
       "        vertical-align: middle;\n",
       "    }\n",
       "\n",
       "    .dataframe tbody tr th {\n",
       "        vertical-align: top;\n",
       "    }\n",
       "\n",
       "    .dataframe thead th {\n",
       "        text-align: right;\n",
       "    }\n",
       "</style>\n",
       "<table border=\"1\" class=\"dataframe\">\n",
       "  <thead>\n",
       "    <tr style=\"text-align: right;\">\n",
       "      <th></th>\n",
       "      <th>Title</th>\n",
       "      <th>Body</th>\n",
       "      <th>Stars</th>\n",
       "    </tr>\n",
       "  </thead>\n",
       "  <tbody>\n",
       "    <tr>\n",
       "      <th>282</th>\n",
       "      <td>bello</td>\n",
       "      <td>alexa è stratosferica  risponde bene ad ogni comando  molto comodo e utile per chi sta sempre a letto e per chi perde il telecomando</td>\n",
       "      <td>5</td>\n",
       "    </tr>\n",
       "    <tr>\n",
       "      <th>455</th>\n",
       "      <td>alexa</td>\n",
       "      <td>e piccola ma ha un suono spettacolo mi piace un sacco regalate a natale anche hai miei genitori e miei suoceriottimo tuttoimpacchettamwnto spedizione  prodotto e consegna  ora voglio le lampadine appena potrò  me le regalo</td>\n",
       "      <td>5</td>\n",
       "    </tr>\n",
       "    <tr>\n",
       "      <th>311</th>\n",
       "      <td>soddisfatto</td>\n",
       "      <td>articolo consegnato nei tempi e rispondente alla descrizione</td>\n",
       "      <td>4</td>\n",
       "    </tr>\n",
       "    <tr>\n",
       "      <th>12</th>\n",
       "      <td>utilissimo</td>\n",
       "      <td>per qualità prezzo non si poteva chiedere di meglio</td>\n",
       "      <td>5</td>\n",
       "    </tr>\n",
       "    <tr>\n",
       "      <th>425</th>\n",
       "      <td>ottimo prodotto</td>\n",
       "      <td>tutto perfetto  ma per installarla ho dovuto chiamare un tecnico  non è poi così semplice come dicono</td>\n",
       "      <td>5</td>\n",
       "    </tr>\n",
       "    <tr>\n",
       "      <th>238</th>\n",
       "      <td>alexa tutta la vita</td>\n",
       "      <td>ottimo acquisto</td>\n",
       "      <td>5</td>\n",
       "    </tr>\n",
       "    <tr>\n",
       "      <th>86</th>\n",
       "      <td>amazon</td>\n",
       "      <td>ottima come tutti prodotti amazon secondo me é da migliore il touch per mettere pausa perché non prende al primo colpo</td>\n",
       "      <td>5</td>\n",
       "    </tr>\n",
       "    <tr>\n",
       "      <th>156</th>\n",
       "      <td>miglioramenti solamente nel design</td>\n",
       "      <td>rispetto al modello precedente di eco dot  quello di terza generazione  personalmente noto solo miglioramenti nel design  la qualità audio mi sembra la stessa e l efficienza energetica è pressoché la stessa  mi sono trovato bene in passato  mi trovo bene tutt ora  nulla da aggiungere</td>\n",
       "      <td>5</td>\n",
       "    </tr>\n",
       "    <tr>\n",
       "      <th>347</th>\n",
       "      <td>bene</td>\n",
       "      <td>audio discreto a patto di non alzare molto il volume  esteticamente accattivante   ha un sensore di temperatura che   chiedendo  informa sui gradi  della stanza in cui e  collocato  senza abbonamento premium si ascoltano i brani casuali  e non quelli voluti</td>\n",
       "      <td>5</td>\n",
       "    </tr>\n",
       "    <tr>\n",
       "      <th>401</th>\n",
       "      <td>dovrebbero averlo tutti</td>\n",
       "      <td>ne avevo già una in cada e ne ho comprata un altra per mio cognato è un oggetto comodissimo soprattutto se associato ad altri come tv e lampadine non uso più gli interruttori e lo trovo comodissimo è comodo anche per ascoltare musica e come timer può essere usato come vivavoce e per fare chiamate se collegato al telefono eccellente</td>\n",
       "      <td>5</td>\n",
       "    </tr>\n",
       "  </tbody>\n",
       "</table>\n",
       "</div>"
      ],
      "text/plain": [
       "                                  Title  \\\n",
       "282                               bello   \n",
       "455                               alexa   \n",
       "311                         soddisfatto   \n",
       "12                           utilissimo   \n",
       "425                     ottimo prodotto   \n",
       "238                 alexa tutta la vita   \n",
       "86                               amazon   \n",
       "156  miglioramenti solamente nel design   \n",
       "347                               bene    \n",
       "401             dovrebbero averlo tutti   \n",
       "\n",
       "                                                                                                                                                                                                                                                                                                                                               Body  \\\n",
       "282                                                                                                                                                                                                            alexa è stratosferica  risponde bene ad ogni comando  molto comodo e utile per chi sta sempre a letto e per chi perde il telecomando   \n",
       "455                                                                                                                 e piccola ma ha un suono spettacolo mi piace un sacco regalate a natale anche hai miei genitori e miei suoceriottimo tuttoimpacchettamwnto spedizione  prodotto e consegna  ora voglio le lampadine appena potrò  me le regalo    \n",
       "311                                                                                                                                                                                                                                                                                    articolo consegnato nei tempi e rispondente alla descrizione   \n",
       "12                                                                                                                                                                                                                                                                                              per qualità prezzo non si poteva chiedere di meglio   \n",
       "425                                                                                                                                                                                                                                          tutto perfetto  ma per installarla ho dovuto chiamare un tecnico  non è poi così semplice come dicono    \n",
       "238                                                                                                                                                                                                                                                                                                                                 ottimo acquisto   \n",
       "86                                                                                                                                                                                                                           ottima come tutti prodotti amazon secondo me é da migliore il touch per mettere pausa perché non prende al primo colpo   \n",
       "156                                                    rispetto al modello precedente di eco dot  quello di terza generazione  personalmente noto solo miglioramenti nel design  la qualità audio mi sembra la stessa e l efficienza energetica è pressoché la stessa  mi sono trovato bene in passato  mi trovo bene tutt ora  nulla da aggiungere   \n",
       "347                                                                              audio discreto a patto di non alzare molto il volume  esteticamente accattivante   ha un sensore di temperatura che   chiedendo  informa sui gradi  della stanza in cui e  collocato  senza abbonamento premium si ascoltano i brani casuali  e non quelli voluti    \n",
       "401  ne avevo già una in cada e ne ho comprata un altra per mio cognato è un oggetto comodissimo soprattutto se associato ad altri come tv e lampadine non uso più gli interruttori e lo trovo comodissimo è comodo anche per ascoltare musica e come timer può essere usato come vivavoce e per fare chiamate se collegato al telefono eccellente    \n",
       "\n",
       "     Stars  \n",
       "282      5  \n",
       "455      5  \n",
       "311      4  \n",
       "12       5  \n",
       "425      5  \n",
       "238      5  \n",
       "86       5  \n",
       "156      5  \n",
       "347      5  \n",
       "401      5  "
      ]
     },
     "execution_count": 14,
     "metadata": {},
     "output_type": "execute_result"
    }
   ],
   "source": [
    "df.sample(10)"
   ]
  },
  {
   "attachments": {},
   "cell_type": "markdown",
   "metadata": {},
   "source": [
    "Here I write the dataframe into a csv file in order to upload it in the next file"
   ]
  },
  {
   "cell_type": "code",
   "execution_count": null,
   "metadata": {},
   "outputs": [],
   "source": [
    "df.to_csv('data.csv', index=False, header=0)"
   ]
  }
 ],
 "metadata": {
  "kernelspec": {
   "display_name": "Python_last",
   "language": "python",
   "name": "python3"
  },
  "language_info": {
   "codemirror_mode": {
    "name": "ipython",
    "version": 3
   },
   "file_extension": ".py",
   "mimetype": "text/x-python",
   "name": "python",
   "nbconvert_exporter": "python",
   "pygments_lexer": "ipython3",
   "version": "3.11.2"
  },
  "orig_nbformat": 4
 },
 "nbformat": 4,
 "nbformat_minor": 2
}
