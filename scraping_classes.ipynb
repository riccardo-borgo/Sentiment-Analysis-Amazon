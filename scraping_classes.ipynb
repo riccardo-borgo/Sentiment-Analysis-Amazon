{
 "cells": [
  {
   "cell_type": "code",
   "execution_count": 1,
   "metadata": {},
   "outputs": [],
   "source": [
    "import time\n",
    "from requests_html import HTMLSession\n",
    "from dotenv import load_dotenv\n",
    "import os"
   ]
  },
  {
   "cell_type": "code",
   "execution_count": 2,
   "metadata": {},
   "outputs": [],
   "source": [
    "load_dotenv()\n",
    "USER_AGENT = os.getenv(\"USER_AGENT\")"
   ]
  },
  {
   "cell_type": "code",
   "execution_count": 3,
   "metadata": {},
   "outputs": [],
   "source": [
    "class Scraper:\n",
    "    def __init__(self, asin) -> None:\n",
    "        self.session = HTMLSession()\n",
    "        self.asin = asin\n",
    "        self.url = f\"https://www.amazon.com/product-reviews/{self.asin}/ref=cm_cr_dp_d_show_all_btm?ie=UTF8&reviewerType=all_reviews&sortBy=recent&pageNumber=\"\n",
    "    \n",
    "    def check_page(self, i):\n",
    "        headers = {\"User-Agent\": USER_AGENT}\n",
    "        response = self.session.get(self.url + str(i), headers=headers)\n",
    "        if response.status_code == 200:\n",
    "            if response.html.find('div[data-hook=review]'):\n",
    "                return response.html.find('div[data-hook=review]')\n",
    "            else:\n",
    "                return False\n",
    "        else:\n",
    "            return response.status_code\n",
    "\n",
    "    def scrape(self, reviews):\n",
    "        total = []\n",
    "\n",
    "        for review in reviews:\n",
    "            try:\n",
    "                title = review.find('div[data-hook=\"review\"] span[data-hook=\"review-title\"]', first = True).text.strip().replace('\\n', '')\n",
    "                rating = review.find('i[data-hook=review-star-rating] span', first = True).text.strip().replace('\\n', '').replace(' out of 5 stars', '')\n",
    "                body = review.find('div[data-hook=\"review\"] span[data-hook=\"review-body\"]', first = True).text.strip().replace('\\n', '')\n",
    "            except:\n",
    "                continue        \n",
    "\n",
    "            data = {'title': title,\n",
    "                    'rating': rating,\n",
    "                    'body': body}      \n",
    "            total.append(data)\n",
    "        return total"
   ]
  },
  {
   "cell_type": "code",
   "execution_count": 4,
   "metadata": {},
   "outputs": [
    {
     "name": "stdout",
     "output_type": "stream",
     "text": [
      "Scraping page 1\n",
      "Scraping page 2\n",
      "Scraping page 3\n",
      "Scraping page 4\n",
      "Scraping page 5\n"
     ]
    },
    {
     "ename": "TypeError",
     "evalue": "'int' object is not iterable",
     "output_type": "error",
     "traceback": [
      "\u001b[0;31m---------------------------------------------------------------------------\u001b[0m",
      "\u001b[0;31mTypeError\u001b[0m                                 Traceback (most recent call last)",
      "\u001b[1;32m/Users/riccardo/Documents/GitHub/Sentiment-Analysis_Amazon/scraping_classes.ipynb Cell 4\u001b[0m line \u001b[0;36m1\n\u001b[1;32m      <a href='vscode-notebook-cell:/Users/riccardo/Documents/GitHub/Sentiment-Analysis_Amazon/scraping_classes.ipynb#X15sZmlsZQ%3D%3D?line=7'>8</a>\u001b[0m reviews \u001b[39m=\u001b[39m scraper\u001b[39m.\u001b[39mcheck_page(i)\n\u001b[1;32m      <a href='vscode-notebook-cell:/Users/riccardo/Documents/GitHub/Sentiment-Analysis_Amazon/scraping_classes.ipynb#X15sZmlsZQ%3D%3D?line=8'>9</a>\u001b[0m \u001b[39mif\u001b[39;00m reviews:\n\u001b[0;32m---> <a href='vscode-notebook-cell:/Users/riccardo/Documents/GitHub/Sentiment-Analysis_Amazon/scraping_classes.ipynb#X15sZmlsZQ%3D%3D?line=9'>10</a>\u001b[0m     final\u001b[39m.\u001b[39mappend(scraper\u001b[39m.\u001b[39mscrape(reviews))\n",
      "\u001b[1;32m/Users/riccardo/Documents/GitHub/Sentiment-Analysis_Amazon/scraping_classes.ipynb Cell 4\u001b[0m line \u001b[0;36m2\n\u001b[1;32m     <a href='vscode-notebook-cell:/Users/riccardo/Documents/GitHub/Sentiment-Analysis_Amazon/scraping_classes.ipynb#X15sZmlsZQ%3D%3D?line=17'>18</a>\u001b[0m \u001b[39mdef\u001b[39;00m \u001b[39mscrape\u001b[39m(\u001b[39mself\u001b[39m, reviews):\n\u001b[1;32m     <a href='vscode-notebook-cell:/Users/riccardo/Documents/GitHub/Sentiment-Analysis_Amazon/scraping_classes.ipynb#X15sZmlsZQ%3D%3D?line=18'>19</a>\u001b[0m     total \u001b[39m=\u001b[39m []\n\u001b[0;32m---> <a href='vscode-notebook-cell:/Users/riccardo/Documents/GitHub/Sentiment-Analysis_Amazon/scraping_classes.ipynb#X15sZmlsZQ%3D%3D?line=20'>21</a>\u001b[0m     \u001b[39mfor\u001b[39;00m review \u001b[39min\u001b[39;00m reviews:\n\u001b[1;32m     <a href='vscode-notebook-cell:/Users/riccardo/Documents/GitHub/Sentiment-Analysis_Amazon/scraping_classes.ipynb#X15sZmlsZQ%3D%3D?line=21'>22</a>\u001b[0m         \u001b[39mtry\u001b[39;00m:\n\u001b[1;32m     <a href='vscode-notebook-cell:/Users/riccardo/Documents/GitHub/Sentiment-Analysis_Amazon/scraping_classes.ipynb#X15sZmlsZQ%3D%3D?line=22'>23</a>\u001b[0m             title \u001b[39m=\u001b[39m review\u001b[39m.\u001b[39mfind(\u001b[39m'\u001b[39m\u001b[39mdiv[data-hook=\u001b[39m\u001b[39m\"\u001b[39m\u001b[39mreview\u001b[39m\u001b[39m\"\u001b[39m\u001b[39m] span[data-hook=\u001b[39m\u001b[39m\"\u001b[39m\u001b[39mreview-title\u001b[39m\u001b[39m\"\u001b[39m\u001b[39m]\u001b[39m\u001b[39m'\u001b[39m, first \u001b[39m=\u001b[39m \u001b[39mTrue\u001b[39;00m)\u001b[39m.\u001b[39mtext\u001b[39m.\u001b[39mstrip()\u001b[39m.\u001b[39mreplace(\u001b[39m'\u001b[39m\u001b[39m\\n\u001b[39;00m\u001b[39m'\u001b[39m, \u001b[39m'\u001b[39m\u001b[39m'\u001b[39m)\n",
      "\u001b[0;31mTypeError\u001b[0m: 'int' object is not iterable"
     ]
    }
   ],
   "source": [
    "scraper = Scraper('B08D6VD9TR')\n",
    "\n",
    "final = []\n",
    "\n",
    "for i in range(1, 51):\n",
    "    print(f'Scraping page {i}')\n",
    "    time.sleep(1)\n",
    "    reviews = scraper.check_page(i)\n",
    "    if reviews:\n",
    "        final.append(scraper.scrape(reviews))\n"
   ]
  }
 ],
 "metadata": {
  "kernelspec": {
   "display_name": "python_3112",
   "language": "python",
   "name": "python3"
  },
  "language_info": {
   "codemirror_mode": {
    "name": "ipython",
    "version": 3
   },
   "file_extension": ".py",
   "mimetype": "text/x-python",
   "name": "python",
   "nbconvert_exporter": "python",
   "pygments_lexer": "ipython3",
   "version": "3.11.5"
  }
 },
 "nbformat": 4,
 "nbformat_minor": 2
}
