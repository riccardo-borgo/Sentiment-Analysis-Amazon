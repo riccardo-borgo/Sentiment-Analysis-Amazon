{
 "cells": [
  {
   "attachments": {},
   "cell_type": "markdown",
   "metadata": {},
   "source": [
    "# Script that perform modelling using different models"
   ]
  },
  {
   "attachments": {},
   "cell_type": "markdown",
   "metadata": {},
   "source": [
    "### Importing Libraries"
   ]
  },
  {
   "cell_type": "code",
   "execution_count": 22,
   "metadata": {},
   "outputs": [],
   "source": [
    "import pandas as pd\n",
    "import numpy as np\n",
    "import matplotlib.pyplot as plt\n",
    "import seaborn as sns\n",
    "from sklearn.model_selection import train_test_split\n",
    "from sklearn.tree import DecisionTreeClassifier\n",
    "from sklearn.ensemble import RandomForestClassifier\n",
    "from sklearn.naive_bayes import GaussianNB\n",
    "from sklearn.linear_model import LogisticRegression\n",
    "from sklearn.model_selection import GridSearchCV\n",
    "from sklearn.metrics import accuracy_score, recall_score, f1_score, confusion_matrix\n",
    "from imblearn.over_sampling import SMOTE\n",
    "from sklearn.preprocessing import LabelEncoder\n",
    "from collections import OrderedDict"
   ]
  },
  {
   "cell_type": "markdown",
   "metadata": {},
   "source": [
    "## Data Preparation"
   ]
  },
  {
   "attachments": {},
   "cell_type": "markdown",
   "metadata": {},
   "source": [
    "Uploading the matrix"
   ]
  },
  {
   "cell_type": "code",
   "execution_count": 3,
   "metadata": {},
   "outputs": [],
   "source": [
    "sparse_matrix = pd.read_csv('matrix.csv')"
   ]
  },
  {
   "cell_type": "code",
   "execution_count": 4,
   "metadata": {},
   "outputs": [
    {
     "data": {
      "text/html": [
       "<div>\n",
       "<style scoped>\n",
       "    .dataframe tbody tr th:only-of-type {\n",
       "        vertical-align: middle;\n",
       "    }\n",
       "\n",
       "    .dataframe tbody tr th {\n",
       "        vertical-align: top;\n",
       "    }\n",
       "\n",
       "    .dataframe thead th {\n",
       "        text-align: right;\n",
       "    }\n",
       "</style>\n",
       "<table border=\"1\" class=\"dataframe\">\n",
       "  <thead>\n",
       "    <tr style=\"text-align: right;\">\n",
       "      <th></th>\n",
       "      <th>doc2vec_0</th>\n",
       "      <th>doc2vec_1</th>\n",
       "      <th>doc2vec_2</th>\n",
       "      <th>doc2vec_3</th>\n",
       "      <th>doc2vec_4</th>\n",
       "      <th>doc2vec_5</th>\n",
       "      <th>doc2vec_6</th>\n",
       "      <th>doc2vec_7</th>\n",
       "      <th>doc2vec_8</th>\n",
       "      <th>doc2vec_9</th>\n",
       "      <th>...</th>\n",
       "      <th>doc2vec_191</th>\n",
       "      <th>doc2vec_192</th>\n",
       "      <th>doc2vec_193</th>\n",
       "      <th>doc2vec_194</th>\n",
       "      <th>doc2vec_195</th>\n",
       "      <th>doc2vec_196</th>\n",
       "      <th>doc2vec_197</th>\n",
       "      <th>doc2vec_198</th>\n",
       "      <th>doc2vec_199</th>\n",
       "      <th>Sentiment</th>\n",
       "    </tr>\n",
       "  </thead>\n",
       "  <tbody>\n",
       "    <tr>\n",
       "      <th>0</th>\n",
       "      <td>-0.002338</td>\n",
       "      <td>0.000781</td>\n",
       "      <td>0.002124</td>\n",
       "      <td>0.000501</td>\n",
       "      <td>-0.000917</td>\n",
       "      <td>0.000252</td>\n",
       "      <td>-0.002151</td>\n",
       "      <td>-0.000951</td>\n",
       "      <td>0.000241</td>\n",
       "      <td>-0.002489</td>\n",
       "      <td>...</td>\n",
       "      <td>0.000519</td>\n",
       "      <td>-0.000015</td>\n",
       "      <td>-0.000744</td>\n",
       "      <td>0.001976</td>\n",
       "      <td>0.000762</td>\n",
       "      <td>0.001587</td>\n",
       "      <td>-0.002278</td>\n",
       "      <td>0.000783</td>\n",
       "      <td>0.002247</td>\n",
       "      <td>Negative</td>\n",
       "    </tr>\n",
       "    <tr>\n",
       "      <th>1</th>\n",
       "      <td>0.001938</td>\n",
       "      <td>0.001311</td>\n",
       "      <td>0.000320</td>\n",
       "      <td>-0.001054</td>\n",
       "      <td>-0.002408</td>\n",
       "      <td>0.000491</td>\n",
       "      <td>0.000218</td>\n",
       "      <td>0.000161</td>\n",
       "      <td>0.002049</td>\n",
       "      <td>-0.000929</td>\n",
       "      <td>...</td>\n",
       "      <td>-0.001227</td>\n",
       "      <td>-0.000746</td>\n",
       "      <td>0.001840</td>\n",
       "      <td>-0.000436</td>\n",
       "      <td>-0.000996</td>\n",
       "      <td>-0.001008</td>\n",
       "      <td>0.002176</td>\n",
       "      <td>-0.000882</td>\n",
       "      <td>0.000176</td>\n",
       "      <td>Positive</td>\n",
       "    </tr>\n",
       "    <tr>\n",
       "      <th>2</th>\n",
       "      <td>-0.000408</td>\n",
       "      <td>0.002408</td>\n",
       "      <td>-0.000499</td>\n",
       "      <td>-0.001589</td>\n",
       "      <td>0.000695</td>\n",
       "      <td>-0.001969</td>\n",
       "      <td>0.000433</td>\n",
       "      <td>0.000508</td>\n",
       "      <td>0.001173</td>\n",
       "      <td>-0.001201</td>\n",
       "      <td>...</td>\n",
       "      <td>0.000883</td>\n",
       "      <td>-0.002468</td>\n",
       "      <td>-0.002339</td>\n",
       "      <td>0.000374</td>\n",
       "      <td>0.001733</td>\n",
       "      <td>0.001598</td>\n",
       "      <td>-0.002239</td>\n",
       "      <td>-0.000264</td>\n",
       "      <td>0.000285</td>\n",
       "      <td>Positive</td>\n",
       "    </tr>\n",
       "    <tr>\n",
       "      <th>3</th>\n",
       "      <td>0.000473</td>\n",
       "      <td>0.000037</td>\n",
       "      <td>-0.002223</td>\n",
       "      <td>-0.000940</td>\n",
       "      <td>-0.001398</td>\n",
       "      <td>0.002042</td>\n",
       "      <td>0.000230</td>\n",
       "      <td>0.000627</td>\n",
       "      <td>0.001285</td>\n",
       "      <td>-0.000254</td>\n",
       "      <td>...</td>\n",
       "      <td>-0.000858</td>\n",
       "      <td>-0.001257</td>\n",
       "      <td>-0.000725</td>\n",
       "      <td>-0.002463</td>\n",
       "      <td>-0.002341</td>\n",
       "      <td>0.002111</td>\n",
       "      <td>0.001643</td>\n",
       "      <td>-0.001026</td>\n",
       "      <td>-0.000480</td>\n",
       "      <td>Positive</td>\n",
       "    </tr>\n",
       "    <tr>\n",
       "      <th>4</th>\n",
       "      <td>-0.000326</td>\n",
       "      <td>0.002261</td>\n",
       "      <td>0.001525</td>\n",
       "      <td>-0.001657</td>\n",
       "      <td>-0.000361</td>\n",
       "      <td>-0.002382</td>\n",
       "      <td>-0.001542</td>\n",
       "      <td>-0.001674</td>\n",
       "      <td>-0.001292</td>\n",
       "      <td>0.002034</td>\n",
       "      <td>...</td>\n",
       "      <td>-0.001903</td>\n",
       "      <td>-0.002152</td>\n",
       "      <td>0.002247</td>\n",
       "      <td>0.001016</td>\n",
       "      <td>-0.002131</td>\n",
       "      <td>0.000059</td>\n",
       "      <td>-0.000368</td>\n",
       "      <td>0.001198</td>\n",
       "      <td>-0.001351</td>\n",
       "      <td>Positive</td>\n",
       "    </tr>\n",
       "  </tbody>\n",
       "</table>\n",
       "<p>5 rows × 201 columns</p>\n",
       "</div>"
      ],
      "text/plain": [
       "   doc2vec_0  doc2vec_1  doc2vec_2  doc2vec_3  doc2vec_4  doc2vec_5  \\\n",
       "0  -0.002338   0.000781   0.002124   0.000501  -0.000917   0.000252   \n",
       "1   0.001938   0.001311   0.000320  -0.001054  -0.002408   0.000491   \n",
       "2  -0.000408   0.002408  -0.000499  -0.001589   0.000695  -0.001969   \n",
       "3   0.000473   0.000037  -0.002223  -0.000940  -0.001398   0.002042   \n",
       "4  -0.000326   0.002261   0.001525  -0.001657  -0.000361  -0.002382   \n",
       "\n",
       "   doc2vec_6  doc2vec_7  doc2vec_8  doc2vec_9  ...  doc2vec_191  doc2vec_192  \\\n",
       "0  -0.002151  -0.000951   0.000241  -0.002489  ...     0.000519    -0.000015   \n",
       "1   0.000218   0.000161   0.002049  -0.000929  ...    -0.001227    -0.000746   \n",
       "2   0.000433   0.000508   0.001173  -0.001201  ...     0.000883    -0.002468   \n",
       "3   0.000230   0.000627   0.001285  -0.000254  ...    -0.000858    -0.001257   \n",
       "4  -0.001542  -0.001674  -0.001292   0.002034  ...    -0.001903    -0.002152   \n",
       "\n",
       "   doc2vec_193  doc2vec_194  doc2vec_195  doc2vec_196  doc2vec_197  \\\n",
       "0    -0.000744     0.001976     0.000762     0.001587    -0.002278   \n",
       "1     0.001840    -0.000436    -0.000996    -0.001008     0.002176   \n",
       "2    -0.002339     0.000374     0.001733     0.001598    -0.002239   \n",
       "3    -0.000725    -0.002463    -0.002341     0.002111     0.001643   \n",
       "4     0.002247     0.001016    -0.002131     0.000059    -0.000368   \n",
       "\n",
       "   doc2vec_198  doc2vec_199  Sentiment  \n",
       "0     0.000783     0.002247   Negative  \n",
       "1    -0.000882     0.000176   Positive  \n",
       "2    -0.000264     0.000285   Positive  \n",
       "3    -0.001026    -0.000480   Positive  \n",
       "4     0.001198    -0.001351   Positive  \n",
       "\n",
       "[5 rows x 201 columns]"
      ]
     },
     "execution_count": 4,
     "metadata": {},
     "output_type": "execute_result"
    }
   ],
   "source": [
    "sparse_matrix.head()"
   ]
  },
  {
   "cell_type": "markdown",
   "metadata": {},
   "source": [
    "Since predicting a label is not possible we need to encode the target"
   ]
  },
  {
   "cell_type": "code",
   "execution_count": 5,
   "metadata": {},
   "outputs": [],
   "source": [
    "sparse_matrix['Sentiment_Encoded'] = LabelEncoder().fit_transform(sparse_matrix['Sentiment'])"
   ]
  },
  {
   "cell_type": "code",
   "execution_count": 6,
   "metadata": {},
   "outputs": [
    {
     "data": {
      "text/plain": [
       "Sentiment_Encoded\n",
       "2    81\n",
       "0    11\n",
       "1     8\n",
       "Name: count, dtype: int64"
      ]
     },
     "execution_count": 6,
     "metadata": {},
     "output_type": "execute_result"
    }
   ],
   "source": [
    "sparse_matrix['Sentiment_Encoded'].value_counts() # 2 - positive 1 - neutral 0 - negative"
   ]
  },
  {
   "cell_type": "code",
   "execution_count": 7,
   "metadata": {},
   "outputs": [],
   "source": [
    "sparse_matrix.drop(['Sentiment'], axis=1, inplace=True)"
   ]
  },
  {
   "attachments": {},
   "cell_type": "markdown",
   "metadata": {},
   "source": [
    "Splitting into train and test"
   ]
  },
  {
   "cell_type": "code",
   "execution_count": 8,
   "metadata": {},
   "outputs": [],
   "source": [
    "X = sparse_matrix.iloc[:,0:-2]\n",
    "Y = sparse_matrix.iloc[:, -1]\n",
    "X_train, X_test, y_train, y_test = train_test_split(X, Y, test_size=0.2, random_state=42)"
   ]
  },
  {
   "cell_type": "markdown",
   "metadata": {},
   "source": [
    "Since, as we saw a block above, the target variable is really unbalanced, we need a method to try at lest to reduce the level of unbalancesness.\n",
    "\n",
    "**SMOTE**, or Synthetic Minority Over-sampling Technique, is a resampling method designed to address imbalances in class distribution within a dataset, commonly encountered in machine learning applications. It specifically targets the minority class by generating synthetic instances that lie along the line segments connecting existing minority class samples. By introducing synthetic data points, SMOTE helps to balance the class distribution, preventing the model from being biased towards the majority class. This technique is particularly useful when dealing with imbalanced datasets, enhancing the model's ability to recognize patterns and make more accurate predictions for minority class instances."
   ]
  },
  {
   "cell_type": "code",
   "execution_count": 9,
   "metadata": {},
   "outputs": [
    {
     "name": "stderr",
     "output_type": "stream",
     "text": [
      "/Users/riccardo/opt/anaconda3/envs/python_3112/lib/python3.11/site-packages/threadpoolctl.py:1010: RuntimeWarning: \n",
      "Found Intel OpenMP ('libiomp') and LLVM OpenMP ('libomp') loaded at\n",
      "the same time. Both libraries are known to be incompatible and this\n",
      "can cause random crashes or deadlocks on Linux when loaded in the\n",
      "same Python program.\n",
      "Using threadpoolctl may cause crashes or deadlocks. For more\n",
      "information and possible workarounds, please see\n",
      "    https://github.com/joblib/threadpoolctl/blob/master/multiple_openmp.md\n",
      "\n",
      "  warnings.warn(msg, RuntimeWarning)\n"
     ]
    }
   ],
   "source": [
    "smote = SMOTE(random_state=42)\n",
    "X_train_res, y_train_res = smote.fit_resample(X_train, y_train)"
   ]
  },
  {
   "cell_type": "code",
   "execution_count": 10,
   "metadata": {},
   "outputs": [
    {
     "name": "stdout",
     "output_type": "stream",
     "text": [
      "Sentiment_Encoded\n",
      "0    65\n",
      "2    65\n",
      "1    65\n",
      "Name: count, dtype: int64\n"
     ]
    }
   ],
   "source": [
    "print(y_train_res.value_counts())"
   ]
  },
  {
   "attachments": {},
   "cell_type": "markdown",
   "metadata": {},
   "source": [
    "## Models"
   ]
  },
  {
   "cell_type": "markdown",
   "metadata": {},
   "source": [
    "Since I want to predict a class, I need to use classification models. The one I will show in this notebook are:\n",
    "- Näive Bayes\n",
    "- Decision Tree\n",
    "- Random Forest\n",
    "- Logistic Regression"
   ]
  },
  {
   "attachments": {},
   "cell_type": "markdown",
   "metadata": {},
   "source": [
    "### Näive Bayes"
   ]
  },
  {
   "cell_type": "code",
   "execution_count": 11,
   "metadata": {},
   "outputs": [
    {
     "name": "stdout",
     "output_type": "stream",
     "text": [
      "Accuracy: 0.8\n",
      "Recall: 0.8\n",
      "F1 Score: 0.8000000000000002\n"
     ]
    }
   ],
   "source": [
    "# Naive Bayes\n",
    "nb = GaussianNB()\n",
    "                                                    \n",
    "nb.fit(X_train_res, y_train_res)\n",
    "\n",
    "# Make predictions on the test set\n",
    "y_pred = nb.predict(X_test)\n",
    "\n",
    "# Calculate the accuracy of the classifier\n",
    "accuracy_nb = accuracy_score(y_test, y_pred)\n",
    "recall_nb = recall_score(y_test, y_pred, average='micro')\n",
    "f1_score_nb = f1_score(y_test, y_pred, average='micro')\n",
    "print(\"Accuracy:\", accuracy_nb)\n",
    "print(\"Recall:\", recall_nb)\n",
    "print(\"F1 Score:\", f1_score_nb)"
   ]
  },
  {
   "cell_type": "code",
   "execution_count": 12,
   "metadata": {},
   "outputs": [
    {
     "data": {
      "image/png": "[encoded data removed]",
      "text/plain": [
       "<Figure size 800x600 with 2 Axes>"
      ]
     },
     "metadata": {},
     "output_type": "display_data"
    }
   ],
   "source": [
    "cm = confusion_matrix(y_test, y_pred)\n",
    "\n",
    "# Plot confusion matrix\n",
    "plt.figure(figsize=(8, 6))\n",
    "sns.heatmap(cm, annot=True, fmt='d', cmap='Blues', xticklabels=['Predicted 0', 'Predicted 1', 'Predicted 2'], yticklabels=['Actual 0', 'Actual 1', 'Actual 2'])\n",
    "plt.xlabel('Predicted labels')\n",
    "plt.ylabel('Actual labels')\n",
    "plt.title('Confusion Matrix')\n",
    "plt.show()"
   ]
  },
  {
   "attachments": {},
   "cell_type": "markdown",
   "metadata": {},
   "source": [
    "### Decision Tree"
   ]
  },
  {
   "cell_type": "code",
   "execution_count": 13,
   "metadata": {},
   "outputs": [
    {
     "name": "stdout",
     "output_type": "stream",
     "text": [
      "Accuracy: 0.6\n",
      "Recall: 0.6\n",
      "F1 Score: 0.6\n"
     ]
    }
   ],
   "source": [
    "# Decision Tree\n",
    "dt = DecisionTreeClassifier(criterion='entropy', random_state=42, splitter='best')\n",
    "\n",
    "# Train the classifier\n",
    "dt.fit(X_train_res, y_train_res)\n",
    "\n",
    "# Make predictions on the test set\n",
    "y_pred = dt.predict(X_test)\n",
    "\n",
    "# Calculate the accuracy of the classifier\n",
    "accuracy_dt = accuracy_score(y_test, y_pred)\n",
    "recall_dt = recall_score(y_test, y_pred, average='micro')\n",
    "f1_score_dt = f1_score(y_test, y_pred, average='micro')\n",
    "print(\"Accuracy:\", accuracy_dt)\n",
    "print(\"Recall:\", recall_dt)\n",
    "print(\"F1 Score:\", f1_score_dt)"
   ]
  },
  {
   "attachments": {},
   "cell_type": "markdown",
   "metadata": {},
   "source": [
    "### Random Forest"
   ]
  },
  {
   "attachments": {},
   "cell_type": "markdown",
   "metadata": {},
   "source": [
    "Before implementing a Random Forest I thought It could be useful to check how many trees are the best choice to construct the Forest. In the code above I created a list of tuples containing \"RandomForest Classifiers\" string and as second element a tuple with the number of trees used and the OOB rate. Setting the attribute oob_score=True I can track every time the OOB score that is the probability of predicting the Out Of Bag samples correctly. The last part of the code plot a line chart where on the x axes there is the number of trees (from 50 to 500 with a step of 10) and the y axes the OOB rate."
   ]
  },
  {
   "cell_type": "code",
   "execution_count": 14,
   "metadata": {},
   "outputs": [
    {
     "data": {
      "image/png": "[encoded data removed]",
      "text/plain": [
       "<Figure size 1000x500 with 1 Axes>"
      ]
     },
     "metadata": {},
     "output_type": "display_data"
    }
   ],
   "source": [
    "ensemble_rf = [\n",
    "    (\"RandomForestClassifier\", RandomForestClassifier(warm_start=True, oob_score=True, random_state=42))\n",
    "]\n",
    "\n",
    "error_rate = OrderedDict((label, []) for label, _ in ensemble_rf)\n",
    "\n",
    "\n",
    "min_estimators = 50\n",
    "max_estimators = 500\n",
    "\n",
    "for label, rf in ensemble_rf:\n",
    "    for i in range(min_estimators, max_estimators + 1, 10):\n",
    "        rf.set_params(n_estimators=i, random_state = 42)\n",
    "        rf.fit(X_train_res, y_train_res)\n",
    "        oob_error = 1 - rf.oob_score_\n",
    "        error_rate[label].append((i, oob_error))\n",
    "\n",
    "\n",
    "for label, clf_err in error_rate.items():\n",
    "    xs, ys = zip(*clf_err) # unzip the tuple with number of trees and OOB error\n",
    "    plt.figure(figsize=(10,5))\n",
    "    plt.plot(xs, ys, label=label)\n",
    "\n",
    "plt.xlim(min_estimators, max_estimators)\n",
    "plt.xlabel(\"n_estimators\")\n",
    "plt.ylabel(\"OOB error rate\")\n",
    "plt.title('OOB error rate according to a certain level of estimators (trees)')\n",
    "plt.legend(loc=\"upper right\")\n",
    "plt.show()"
   ]
  },
  {
   "attachments": {},
   "cell_type": "markdown",
   "metadata": {},
   "source": [
    "After done that I applied some hyperparameter tuning in order to visualize which are the best parameter to obtain the highest accuracy, given the fact that the Random Forest has many parameter to set:"
   ]
  },
  {
   "cell_type": "code",
   "execution_count": 15,
   "metadata": {},
   "outputs": [
    {
     "name": "stdout",
     "output_type": "stream",
     "text": [
      "Fitting 3 folds for each of 144 candidates, totalling 432 fits\n"
     ]
    }
   ],
   "source": [
    "params = {'n_estimators' : [60, 100, 150],\n",
    "          'criterion' : ['gini', 'entropy'],\n",
    "          'max_depth' : [None, 4, 10, 15],\n",
    "          'max_features' : ['sqrt', 'log2', None],\n",
    "          'bootstrap' : [True, False]}\n",
    "\n",
    "hyperparameter_tuning = GridSearchCV(RandomForestClassifier(), params, verbose=1, cv=3, n_jobs=-1)\n",
    "\n",
    "hyp_res = hyperparameter_tuning.fit(X_train_res, y_train_res)"
   ]
  },
  {
   "cell_type": "code",
   "execution_count": 16,
   "metadata": {},
   "outputs": [
    {
     "data": {
      "text/plain": [
       "{'bootstrap': True,\n",
       " 'criterion': 'gini',\n",
       " 'max_depth': None,\n",
       " 'max_features': 'sqrt',\n",
       " 'n_estimators': 100}"
      ]
     },
     "execution_count": 16,
     "metadata": {},
     "output_type": "execute_result"
    }
   ],
   "source": [
    "hyp_res.best_params_"
   ]
  },
  {
   "cell_type": "code",
   "execution_count": 17,
   "metadata": {},
   "outputs": [
    {
     "name": "stdout",
     "output_type": "stream",
     "text": [
      "Accuracy: 0.8\n",
      "Recall: 0.8\n",
      "F1 Score: 0.8000000000000002\n"
     ]
    }
   ],
   "source": [
    "# Random Forest\n",
    "rf = RandomForestClassifier(n_estimators=60, criterion='gini', random_state=42, bootstrap=True, max_depth=None, max_features='sqrt')\n",
    "\n",
    "# Train the classifier\n",
    "rf.fit(X_train_res, y_train_res)\n",
    "\n",
    "# Make predictions on the test set\n",
    "y_pred = rf.predict(X_test)\n",
    "\n",
    "# Calculate the accuracy of the classifier\n",
    "accuracy_rf = accuracy_score(y_test, y_pred)\n",
    "recall_rf = recall_score(y_test, y_pred, average='micro')\n",
    "f1_score_rf = f1_score(y_test, y_pred, average='micro')\n",
    "print(\"Accuracy:\", accuracy_rf)\n",
    "print(\"Recall:\", recall_rf)\n",
    "print(\"F1 Score:\", f1_score_rf)"
   ]
  },
  {
   "attachments": {},
   "cell_type": "markdown",
   "metadata": {},
   "source": [
    "### Logistic Regression"
   ]
  },
  {
   "cell_type": "code",
   "execution_count": 18,
   "metadata": {},
   "outputs": [
    {
     "name": "stdout",
     "output_type": "stream",
     "text": [
      "Accuracy: 0.75\n",
      "Recall: 0.75\n",
      "F1 Score: 0.75\n"
     ]
    }
   ],
   "source": [
    "# Initialize the Logistic Regression model\n",
    "logreg = LogisticRegression(random_state=42)\n",
    "\n",
    "# Fit the model to the training data\n",
    "logreg.fit(X_train_res, y_train_res)\n",
    "\n",
    "# Make predictions on the test data\n",
    "y_pred = logreg.predict(X_test)\n",
    "\n",
    "# Calculate the accuracy of the model\n",
    "accuracy_lr = accuracy_score(y_test, y_pred)\n",
    "recall_lr = recall_score(y_test, y_pred, average='micro')\n",
    "f1_score_lr = f1_score(y_test, y_pred, average='micro')\n",
    "print(\"Accuracy:\", accuracy_lr)\n",
    "print(\"Recall:\", recall_lr)\n",
    "print(\"F1 Score:\", f1_score_lr)"
   ]
  },
  {
   "attachments": {},
   "cell_type": "markdown",
   "metadata": {},
   "source": [
    "### Storing results"
   ]
  },
  {
   "cell_type": "code",
   "execution_count": 20,
   "metadata": {},
   "outputs": [],
   "source": [
    "results = pd.DataFrame({'Model Name' : ['Naive Bayes' ,'Decision Tree', 'Random Forest', 'Logistic Regression'], \n",
    "                                'Accuracy' : [accuracy_nb , accuracy_dt, accuracy_rf, accuracy_lr],\n",
    "                                'Recall' : [recall_nb, recall_dt, recall_rf, recall_lr],\n",
    "                                'F1 Score' : [f1_score_nb, f1_score_dt, f1_score_rf, f1_score_lr]})"
   ]
  },
  {
   "cell_type": "code",
   "execution_count": 21,
   "metadata": {},
   "outputs": [
    {
     "data": {
      "text/html": [
       "<div>\n",
       "<style scoped>\n",
       "    .dataframe tbody tr th:only-of-type {\n",
       "        vertical-align: middle;\n",
       "    }\n",
       "\n",
       "    .dataframe tbody tr th {\n",
       "        vertical-align: top;\n",
       "    }\n",
       "\n",
       "    .dataframe thead th {\n",
       "        text-align: right;\n",
       "    }\n",
       "</style>\n",
       "<table border=\"1\" class=\"dataframe\">\n",
       "  <thead>\n",
       "    <tr style=\"text-align: right;\">\n",
       "      <th></th>\n",
       "      <th>Model Name</th>\n",
       "      <th>Accuracy</th>\n",
       "      <th>Recall</th>\n",
       "      <th>F1 Score</th>\n",
       "    </tr>\n",
       "  </thead>\n",
       "  <tbody>\n",
       "    <tr>\n",
       "      <th>0</th>\n",
       "      <td>Naive Bayes</td>\n",
       "      <td>0.80</td>\n",
       "      <td>0.80</td>\n",
       "      <td>0.80</td>\n",
       "    </tr>\n",
       "    <tr>\n",
       "      <th>1</th>\n",
       "      <td>Decision Tree</td>\n",
       "      <td>0.60</td>\n",
       "      <td>0.60</td>\n",
       "      <td>0.60</td>\n",
       "    </tr>\n",
       "    <tr>\n",
       "      <th>2</th>\n",
       "      <td>Random Forest</td>\n",
       "      <td>0.80</td>\n",
       "      <td>0.80</td>\n",
       "      <td>0.80</td>\n",
       "    </tr>\n",
       "    <tr>\n",
       "      <th>3</th>\n",
       "      <td>Logistic Regression</td>\n",
       "      <td>0.75</td>\n",
       "      <td>0.75</td>\n",
       "      <td>0.75</td>\n",
       "    </tr>\n",
       "  </tbody>\n",
       "</table>\n",
       "</div>"
      ],
      "text/plain": [
       "            Model Name  Accuracy  Recall  F1 Score\n",
       "0          Naive Bayes      0.80    0.80      0.80\n",
       "1        Decision Tree      0.60    0.60      0.60\n",
       "2        Random Forest      0.80    0.80      0.80\n",
       "3  Logistic Regression      0.75    0.75      0.75"
      ]
     },
     "execution_count": 21,
     "metadata": {},
     "output_type": "execute_result"
    }
   ],
   "source": [
    "results"
   ]
  }
 ],
 "metadata": {
  "kernelspec": {
   "display_name": "Python_last",
   "language": "python",
   "name": "python3"
  },
  "language_info": {
   "codemirror_mode": {
    "name": "ipython",
    "version": 3
   },
   "file_extension": ".py",
   "mimetype": "text/x-python",
   "name": "python",
   "nbconvert_exporter": "python",
   "pygments_lexer": "ipython3",
   "version": "3.11.5"
  },
  "orig_nbformat": 4
 },
 "nbformat": 4,
 "nbformat_minor": 2
}
